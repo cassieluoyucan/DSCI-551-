{
 "cells": [
  {
   "cell_type": "code",
   "execution_count": 1,
   "metadata": {
    "collapsed": true
   },
   "outputs": [],
   "source": [
    "import json \n",
    "import sys\n",
    "from collections import defaultdict\n",
    "from itertools import groupby\n",
    "from operator import itemgetter"
   ]
  },
  {
   "cell_type": "code",
   "execution_count": null,
   "metadata": {
    "collapsed": true
   },
   "outputs": [],
   "source": [
    "\n",
    "def file_load(f):\n",
    "    with open(f,\"r\") as file:\n",
    "        data = json.load(file)\n",
    "    return data \n",
    "\n",
    "if __name__ == \"__main__\": \n",
    "    \n",
    "    country = file_load(sys.argv[1])\n",
    "    city = file_load(sys.argv[2])\n",
    "    language = file_load(sys.argv[3])\n",
    "    \n",
    "    \n",
    "    ## to filter the GNP >10000\n",
    "    \n",
    "    d = defaultdict(list)\n",
    "    for i in country:\n",
    "        if i[\"GNP\"] >10000:\n",
    "            d[i[\"Continent\"]].append(i[\"LifeExpectancy\"])\n",
    "            \n",
    "    \n",
    "    \n",
    "    ## TO filter continent which contain at least 5 countries whose GNP >10000\n",
    "    output = defaultdict(list)\n",
    "    for key, value in d.items():\n",
    "        if len(value) >=5:\n",
    "            output[key] = sum(value)/len(value)\n",
    "    \n",
    "   \n",
    "            \n",
    "    \n",
    "    print(output)\n",
    "        \n",
    "                \n",
    "            \n",
    "                \n",
    "\n",
    "   "
   ]
  },
  {
   "cell_type": "code",
   "execution_count": 2,
   "metadata": {
    "collapsed": true
   },
   "outputs": [],
   "source": [
    "with open(\"country.json\", \"r\") as file1:\n",
    "    country = json.load(file1)"
   ]
  },
  {
   "cell_type": "code",
   "execution_count": 16,
   "metadata": {
    "collapsed": true
   },
   "outputs": [],
   "source": [
    "## sort data by Continent \n",
    "\n",
    "d = defaultdict(list)\n",
    "\n",
    "for i in country:\n",
    "    #print(i)\n",
    "    if i[\"GNP\"] >10000:\n",
    "        d[i[\"Continent\"]].append(i[\"LifeExpectancy\"])\n",
    "  \n",
    "            \n",
    "                        \n",
    "            \n",
    "    \n",
    "    "
   ]
  },
  {
   "cell_type": "code",
   "execution_count": 17,
   "metadata": {},
   "outputs": [
    {
     "name": "stdout",
     "output_type": "stream",
     "text": [
      "defaultdict(<class 'list'>, {'Asia': [74.1, 60.2, 73.6, 71.4, 79.5, 68.0, 62.5, 69.7, 66.5, 78.6, 80.7, 63.2, 74.4, 76.1, 71.3, 71.8, 54.9, 70.8, 71.8, 61.1, 67.5, 67.8, 80.1, 68.5, 68.6, 71.0, 76.4, 63.7, 69.3], 'South America': [75.1, 62.9, 75.7, 70.3, 71.1, 70.0, 75.2, 73.1], 'Oceania': [79.8, 77.8], 'Europe': [77.7, 77.8, 70.9, 68.0, 79.6, 74.5, 77.4, 76.5, 78.8, 77.4, 78.8, 77.7, 78.4, 73.7, 71.4, 76.8, 79.0, 69.1, 77.1, 78.3, 78.7, 73.2, 75.8, 69.9, 67.2, 73.7, 74.9, 79.6, 66.0, 72.4], 'North America': [79.4, 75.8, 76.2, 73.2, 66.2, 71.5, 75.6, 69.7, 77.1], 'Africa': [45.2, 69.7, 63.3, 75.5, 69.1, 51.6, 56.6, 73.7, 51.1]})\n"
     ]
    }
   ],
   "source": [
    "print(d)"
   ]
  },
  {
   "cell_type": "code",
   "execution_count": 20,
   "metadata": {
    "collapsed": true
   },
   "outputs": [],
   "source": [
    "output = defaultdict(list)\n",
    "for key, value in d.items():\n",
    "    if len(value) >5:\n",
    "        output[key] = sum(value)/len(value)\n",
    "        \n",
    "        "
   ]
  },
  {
   "cell_type": "code",
   "execution_count": 21,
   "metadata": {},
   "outputs": [
    {
     "name": "stdout",
     "output_type": "stream",
     "text": [
      "defaultdict(<class 'list'>, {'Asia': 70.10689655172413, 'South America': 71.675, 'Europe': 75.01, 'North America': 73.85555555555555, 'Africa': 61.75555555555555})\n"
     ]
    }
   ],
   "source": [
    "print(output)"
   ]
  },
  {
   "cell_type": "code",
   "execution_count": 17,
   "metadata": {},
   "outputs": [
    {
     "name": "stdout",
     "output_type": "stream",
     "text": [
      "defaultdict(<class 'list'>, {'Africa': [38.3, 50.2, 46.7, 39.3, 44.0, 45.2, 54.8, 48.8, 47.4, 60.0, 69.7, 63.3, 45.2, 50.1, 57.4, 45.6, 48.0, 51.0, 75.5, 50.8, 69.1, 55.0, 46.7, 37.5, 71.0, 37.6, 42.5, 41.3, 51.6, 72.7, 39.3, 56.6, 62.2, 40.4, 50.5, 54.7, 73.7, 52.3, 42.9, 51.1, 37.2, 37.8], 'Asia': [45.9, 74.1, 66.4, 62.9, 60.2, 73.0, 73.6, 71.4, 76.7, 64.5, 79.5, 68.0, 62.5, 69.7, 66.5, 78.6, 77.4, 80.7, 63.2, 63.4, 56.5, 74.4, 76.1, 53.1, 71.3, 71.8, 81.6, 54.9, 67.3, 70.8, 57.8, 71.8, 61.1, 67.5, 70.7, 71.4, 72.4, 67.8, 80.1, 68.5, 68.6, 64.1, 60.9, 71.0, 76.4, 63.7, 69.3, 59.8], 'Europe': [71.6, 83.5, 77.7, 77.8, 70.9, 71.5, 68.0, 79.6, 74.5, 77.4, 76.5, 78.8, 69.5, 77.4, 78.8, 77.7, 78.4, 73.7, 71.4, 76.8, 79.4, 79.0, 78.8, 69.1, 77.1, 68.4, 64.5, 73.8, 77.9, 78.3, 78.7, 73.2, 75.8, 69.9, 67.2, 73.7, 74.9, 79.6, 66.0, 72.4], 'North America': [74.7, 71.1, 76.9, 73.0, 79.4, 75.8, 76.2, 78.9, 73.2, 77.0, 66.2, 69.9, 49.2, 75.2, 71.5, 78.3, 68.7, 75.5, 75.6, 69.7, 68.0, 77.1], 'Oceania': [79.8, 67.9, 77.8, 72.8, 77.8, 63.1], 'South America': [75.1, 63.7, 62.9, 75.7, 70.3, 71.1, 70.0, 73.7, 75.2, 73.1]})\n"
     ]
    }
   ],
   "source": [
    "print(d)"
   ]
  },
  {
   "cell_type": "code",
   "execution_count": null,
   "metadata": {
    "collapsed": true
   },
   "outputs": [],
   "source": []
  }
 ],
 "metadata": {
  "kernelspec": {
   "display_name": "Python 3.7.6 64-bit",
   "language": "python",
   "name": "python37664bit65f4c716043e4f238f23dd0a361d4646"
  },
  "language_info": {
   "codemirror_mode": {
    "name": "ipython",
    "version": 3
   },
   "file_extension": ".py",
   "mimetype": "text/x-python",
   "name": "python",
   "nbconvert_exporter": "python",
   "pygments_lexer": "ipython3",
   "version": "3.7.6"
  }
 },
 "nbformat": 4,
 "nbformat_minor": 2
}
