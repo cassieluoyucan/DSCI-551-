{
 "cells": [
  {
   "cell_type": "code",
   "execution_count": 7,
   "metadata": {
    "collapsed": true
   },
   "outputs": [],
   "source": [
    "import json \n",
    "import sys \n",
    "with open(\"country.json\", \"r\") as file1:\n",
    "    country = json.load(file1)\n",
    "    \n",
    "with open(\"city.json\", \"r\") as file2:\n",
    "    city = json.load(file2)\n",
    "    \n",
    "with open(\"countrylanguage.json\", \"r\") as file3:\n",
    "    language = json.load(file3)"
   ]
  },
  {
   "cell_type": "code",
   "execution_count": 15,
   "metadata": {},
   "outputs": [
    {
     "name": "stdout",
     "output_type": "stream",
     "text": [
      "239\n"
     ]
    }
   ],
   "source": [
    "print(len(country))"
   ]
  },
  {
   "cell_type": "code",
   "execution_count": 3,
   "metadata": {},
   "outputs": [
    {
     "name": "stdout",
     "output_type": "stream",
     "text": [
      "{'Aruba': 'Dutch', 'Anguilla': 'English', 'Netherlands Antilles': 'Papiamento', 'Antigua and Barbuda': 'English', 'Belize': 'English', 'Bermuda': 'English', 'Barbados': 'English', 'Canada': 'French', 'Costa Rica': 'Spanish', 'Cuba': 'Spanish', 'Cayman Islands': 'English', 'Dominican Republic': 'Spanish', 'Guadeloupe': 'French', 'Greenland': 'Greenlandic', 'Guatemala': 'Spanish', 'Honduras': 'Spanish', 'Haiti': 'French', 'Saint Kitts and Nevis': 'English', 'Saint Lucia': 'English', 'Mexico': 'Spanish', 'Montserrat': 'English', 'Martinique': 'French', 'Nicaragua': 'Spanish', 'Panama': 'Spanish', 'Puerto Rico': 'Spanish', 'El Salvador': 'Spanish', 'Saint Pierre and Miquelon': 'French', 'Turks and Caicos Islands': 'English', 'United States': 'English', 'Saint Vincent and the Grenadines': 'English', 'Virgin Islands, British': 'English', 'Virgin Islands, U.S.': 'English'}\n"
     ]
    }
   ],
   "source": [
    "\n",
    "ans = {}\n",
    "for i in country:\n",
    "    if i['Continent'] == \"North America\":\n",
    "        \n",
    "        for l in language:\n",
    "            if i[\"Code\"] == l[\"CountryCode\"] and l[\"IsOfficial\"] == \"T\":\n",
    "                ans[i['Name']] = l[\"Language\"]\n",
    "                \n",
    "        \n",
    "     \n",
    "    \n",
    "print(ans)"
   ]
  },
  {
   "cell_type": "code",
   "execution_count": 1,
   "metadata": {
    "collapsed": true
   },
   "outputs": [],
   "source": [
    "import collection"
   ]
  },
  {
   "cell_type": "code",
   "execution_count": 2,
   "metadata": {
    "collapsed": true
   },
   "outputs": [],
   "source": [
    "import itertools "
   ]
  },
  {
   "cell_type": "code",
   "execution_count": 9,
   "metadata": {},
   "outputs": [
    {
     "name": "stdout",
     "output_type": "stream",
     "text": [
      "defaultdict(<class 'list'>, {'Aruba': ['Dutch'], 'Anguilla': ['English'], 'Netherlands Antilles': ['Dutch', 'Papiamento'], 'Antigua and Barbuda': ['English'], 'Belize': ['English'], 'Bermuda': ['English'], 'Barbados': ['English'], 'Canada': ['English', 'French'], 'Costa Rica': ['Spanish'], 'Cuba': ['Spanish'], 'Cayman Islands': ['English'], 'Dominican Republic': ['Spanish'], 'Guadeloupe': ['French'], 'Greenland': ['Danish', 'Greenlandic'], 'Guatemala': ['Spanish'], 'Honduras': ['Spanish'], 'Haiti': ['French'], 'Saint Kitts and Nevis': ['English'], 'Saint Lucia': ['English'], 'Mexico': ['Spanish'], 'Montserrat': ['English'], 'Martinique': ['French'], 'Nicaragua': ['Spanish'], 'Panama': ['Spanish'], 'Puerto Rico': ['Spanish'], 'El Salvador': ['Spanish'], 'Saint Pierre and Miquelon': ['French'], 'Turks and Caicos Islands': ['English'], 'United States': ['English'], 'Saint Vincent and the Grenadines': ['English'], 'Virgin Islands, British': ['English'], 'Virgin Islands, U.S.': ['English']})\n"
     ]
    }
   ],
   "source": [
    "from collections import defaultdict\n",
    "\n",
    "d = defaultdict(list)\n",
    "\n",
    "for i in country:\n",
    "    if i['Continent'] == \"North America\":\n",
    "        \n",
    "        for l in language:\n",
    "            if i[\"Code\"] == l[\"CountryCode\"] and l[\"IsOfficial\"] == \"T\":\n",
    "                d[i['Name']].append(l[\"Language\"])\n",
    "                \n",
    "print(d)\n"
   ]
  },
  {
   "cell_type": "code",
   "execution_count": null,
   "metadata": {
    "collapsed": true
   },
   "outputs": [],
   "source": [
    "import json \n",
    "import sys\n",
    "from collections import defaultdict\n",
    "\n",
    "def file_load(f):\n",
    "    with open(f,\"r\") as file:\n",
    "        data = json.load(file)\n",
    "    return data \n",
    "\n",
    "if __name__ == \"__main__\": \n",
    "    \n",
    "    country = file_load(sys.argv[1])\n",
    "    city = file_load(sys.argv[2])\n",
    "    language = file_load(sys.argv[3])\n",
    "    \n",
    "    \n",
    "    d = defaultdict(list)\n",
    "\n",
    "    for i in country:\n",
    "        if i['Continent'] == \"North America\":\n",
    "             for l in language:\n",
    "                    if i[\"Code\"] == l[\"CountryCode\"] and l[\"IsOfficial\"] == \"T\":\n",
    "                        d[i['Name']].append(l[\"Language\"])\n",
    "                \n",
    "\n",
    "    print(d)\n",
    "        \n",
    "        \n",
    "        \n",
    "        \n",
    "        \n",
    "            \n",
    "\n",
    "            \n",
    "            \n",
    "        \n",
    "    \n",
    "    \n",
    "    \n",
    "    "
   ]
  }
 ],
 "metadata": {
  "kernelspec": {
   "display_name": "Python 3.7.6 64-bit",
   "language": "python",
   "name": "python37664bit65f4c716043e4f238f23dd0a361d4646"
  },
  "language_info": {
   "codemirror_mode": {
    "name": "ipython",
    "version": 3
   },
   "file_extension": ".py",
   "mimetype": "text/x-python",
   "name": "python",
   "nbconvert_exporter": "python",
   "pygments_lexer": "ipython3",
   "version": "3.7.6"
  }
 },
 "nbformat": 4,
 "nbformat_minor": 2
}
