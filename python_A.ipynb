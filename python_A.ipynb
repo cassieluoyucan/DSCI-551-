{
 "cells": [
  {
   "cell_type": "code",
   "execution_count": 1,
   "metadata": {
    "collapsed": true
   },
   "outputs": [],
   "source": [
    "import json \n",
    "import sys"
   ]
  },
  {
   "cell_type": "code",
   "execution_count": 2,
   "metadata": {
    "collapsed": true
   },
   "outputs": [],
   "source": [
    "with open(\"country.json\", \"r\") as file1:\n",
    "    country = json.load(file1)\n",
    "    \n",
    "with open(\"city.json\", \"r\") as file2:\n",
    "    city = json.load(file2)\n",
    "    \n",
    "with open(\"countrylanguage.json\", \"r\") as file3:\n",
    "    language = json.load(file3)\n"
   ]
  },
  {
   "cell_type": "code",
   "execution_count": 17,
   "metadata": {},
   "outputs": [
    {
     "name": "stdout",
     "output_type": "stream",
     "text": [
      "{'Aruba': 'Oranjestad', 'Anguilla': 'The Valley', 'Netherlands Antilles': 'Willemstad', 'Antigua and Barbuda': 'Saint JohnÂ´s', 'Bahamas': 'Nassau', 'Belize': 'Belmopan', 'Bermuda': 'Hamilton', 'Barbados': 'Bridgetown', 'Canada': 'Ottawa', 'Costa Rica': 'San JosÃ©', 'Cuba': 'La Habana', 'Cayman Islands': 'George Town', 'Dominica': 'Roseau', 'Dominican Republic': 'Santo Domingo de GuzmÃ¡n', 'Guadeloupe': 'Basse-Terre', 'Grenada': 'Saint GeorgeÂ´s', 'Greenland': 'Nuuk', 'Guatemala': 'Ciudad de Guatemala', 'Honduras': 'Tegucigalpa', 'Haiti': 'Port-au-Prince', 'Jamaica': 'Kingston', 'Saint Kitts and Nevis': 'Basseterre', 'Saint Lucia': 'Castries', 'Mexico': 'Ciudad de MÃ©xico', 'Montserrat': 'Plymouth', 'Martinique': 'Fort-de-France', 'Nicaragua': 'Managua', 'Panama': 'Ciudad de PanamÃ¡', 'Puerto Rico': 'San Juan', 'El Salvador': 'San Salvador', 'Saint Pierre and Miquelon': 'Saint-Pierre', 'Turks and Caicos Islands': 'Cockburn Town', 'Trinidad and Tobago': 'Port-of-Spain', 'United States': 'Washington', 'Saint Vincent and the Grenadines': 'Kingstown', 'Virgin Islands, British': 'Road Town', 'Virgin Islands, U.S.': 'Charlotte Amalie'}\n"
     ]
    }
   ],
   "source": [
    "### get the index for countries \n",
    "\n",
    "capital_ID = []\n",
    "\n",
    "countryName_list = []\n",
    "for i in range(len(country)):\n",
    "    if country[i]['Continent'] == \"North America\":\n",
    "        capital = country[i]['Capital']\n",
    "        \n",
    "        ## get the Capital code\n",
    "        capital_ID.append(capital)\n",
    "        \n",
    "        ## get the name of country from North America\n",
    "        countryName = country[i]['Name']\n",
    "        countryName_list.append(countryName)\n",
    "\n",
    "capital_name = [city[i-1]['Name']for i in capital_ID]          \n",
    "\n",
    "    \n",
    "    \n",
    "\n",
    "### combine two lists into a dictionary \n",
    "result = {countryName_list[i]: capital_name[i] for i in range(len(capital_name))} \n",
    "\n",
    "print(result)"
   ]
  },
  {
   "cell_type": "code",
   "execution_count": 16,
   "metadata": {},
   "outputs": [
    {
     "name": "stdout",
     "output_type": "stream",
     "text": [
      "{'Aruba': 'Oranjestad', 'Anguilla': 'The Valley', 'Netherlands Antilles': 'Willemstad', 'Antigua and Barbuda': 'Saint JohnÂ´s', 'Bahamas': 'Nassau', 'Belize': 'Belmopan', 'Bermuda': 'Hamilton', 'Barbados': 'Bridgetown', 'Canada': 'Ottawa', 'Costa Rica': 'San JosÃ©', 'Cuba': 'La Habana', 'Cayman Islands': 'George Town', 'Dominica': 'Roseau', 'Dominican Republic': 'Santo Domingo de GuzmÃ¡n', 'Guadeloupe': 'Basse-Terre', 'Grenada': 'Saint GeorgeÂ´s', 'Greenland': 'Nuuk', 'Guatemala': 'Ciudad de Guatemala', 'Honduras': 'Tegucigalpa', 'Haiti': 'Port-au-Prince', 'Jamaica': 'Kingston', 'Saint Kitts and Nevis': 'Basseterre', 'Saint Lucia': 'Castries', 'Mexico': 'Ciudad de MÃ©xico', 'Montserrat': 'Plymouth', 'Martinique': 'Fort-de-France', 'Nicaragua': 'Managua', 'Panama': 'Ciudad de PanamÃ¡', 'Puerto Rico': 'San Juan', 'El Salvador': 'San Salvador', 'Saint Pierre and Miquelon': 'Saint-Pierre', 'Turks and Caicos Islands': 'Cockburn Town', 'Trinidad and Tobago': 'Port-of-Spain', 'United States': 'Washington', 'Saint Vincent and the Grenadines': 'Kingstown', 'Virgin Islands, British': 'Road Town', 'Virgin Islands, U.S.': 'Charlotte Amalie'}\n"
     ]
    }
   ],
   "source": [
    "print(result)"
   ]
  },
  {
   "cell_type": "code",
   "execution_count": null,
   "metadata": {
    "collapsed": true
   },
   "outputs": [],
   "source": [
    "import json \n",
    "import sys\n",
    "from collections import defaultdict\n",
    "\n",
    "def file_load(f):\n",
    "    with open(f,\"r\") as file:\n",
    "        data = json.load(file)\n",
    "    return data \n",
    "\n",
    "if __name__ == \"__main__\": \n",
    "    \n",
    "    country = file_load(sys.argv[1])\n",
    "    city = file_load(sys.argv[2])\n",
    "    language = file_load(sys.argv[3])\n",
    "    \n",
    "    ### get the index for countries \n",
    "    capital_ID = []\n",
    "    countryName_list = []\n",
    "\n",
    "    for i in range(len(country)):\n",
    "        if country[i]['Continent'] == \"North America\":\n",
    "            capital = country[i]['Capital']\n",
    "        \n",
    "        ## get the Capital code\n",
    "            capital_ID.append(capital)\n",
    "        \n",
    "        ## get the name of country from North America\n",
    "            countryName = country[i]['Name']\n",
    "            countryName_list.append(countryName)\n",
    "        \n",
    "    capital_name = [city[i-1]['Name']for i in capital_ID]          \n",
    "    \n",
    "    ### combine two lists into a dictionary \n",
    "    result = {countryName_list[i]: capital_name[i] for i in range(len(capital_name))} \n",
    "\n",
    "    print(result)"
   ]
  }
 ],
 "metadata": {
  "kernelspec": {
   "display_name": "Python 3.7.6 64-bit",
   "language": "python",
   "name": "python37664bit65f4c716043e4f238f23dd0a361d4646"
  },
  "language_info": {
   "codemirror_mode": {
    "name": "ipython",
    "version": 3
   },
   "file_extension": ".py",
   "mimetype": "text/x-python",
   "name": "python",
   "nbconvert_exporter": "python",
   "pygments_lexer": "ipython3",
   "version": "3.7.6"
  }
 },
 "nbformat": 4,
 "nbformat_minor": 2
}
