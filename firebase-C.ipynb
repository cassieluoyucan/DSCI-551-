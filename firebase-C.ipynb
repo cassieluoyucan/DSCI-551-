{
 "cells": [
  {
   "cell_type": "code",
   "execution_count": 1,
   "metadata": {
    "collapsed": true
   },
   "outputs": [],
   "source": [
    "import requests\n",
    "import json \n",
    "import sys"
   ]
  },
  {
   "cell_type": "code",
   "execution_count": 2,
   "metadata": {
    "collapsed": true
   },
   "outputs": [],
   "source": [
    "url = \"https://inf551-52230.firebaseio.com/world/\"\n",
    "\n",
    "country_url = url +\"country.json\""
   ]
  },
  {
   "cell_type": "code",
   "execution_count": 3,
   "metadata": {
    "collapsed": true
   },
   "outputs": [],
   "source": [
    "### get country whose GNP is greater than 10000\n",
    "\n",
    "q1 = country_url+'?orderBy=\"GNP\"&startAt=10000'\n",
    "\n",
    "response = requests.get(q1).json()"
   ]
  },
  {
   "cell_type": "code",
   "execution_count": 27,
   "metadata": {
    "collapsed": true
   },
   "outputs": [],
   "source": [
    "from collections import defaultdict\n",
    "\n",
    "d = defaultdict(list)\n",
    "\n",
    "\n",
    "for code in response:\n",
    "    #print(code)\n",
    "    d[response[code][\"Continent\"]].append(response[code][\"LifeExpectancy\"])\n",
    "      \n",
    "        \n",
    "output = {}\n",
    "for i in d:\n",
    "    if len(d[i]) >5:\n",
    "        output[i] = sum(d[i])/len(d[i])\n",
    "        "
   ]
  },
  {
   "cell_type": "code",
   "execution_count": 30,
   "metadata": {},
   "outputs": [
    {
     "name": "stdout",
     "output_type": "stream",
     "text": [
      "{'Asia': 70.1068965517241, 'Europe': 75.01, 'North America': 73.85555555555555, 'Africa': 61.75555555555555, 'South America': 71.67500000000001}\n"
     ]
    }
   ],
   "source": [
    "print(output)"
   ]
  },
  {
   "cell_type": "code",
   "execution_count": null,
   "metadata": {
    "collapsed": true
   },
   "outputs": [],
   "source": [
    "if __name__ == \"__main__\":\n",
    "    url = \"https://inf551-52230.firebaseio.com/world/\"\n",
    "    country_url = url +\"country.json\"\n",
    "    ### get country whose GNP is greater than 10000\n",
    "    \n",
    "    q1 = country_url+'?orderBy=\"GNP\"&startAt=10000'\n",
    "    response = requests.get(q1).json()\n",
    "    from collections import defaultdict\n",
    "    \n",
    "    d = defaultdict(list)\n",
    "    for code in response:\n",
    "        d[response[code][\"Continent\"]].append(response[code][\"LifeExpectancy\"])\n",
    "    \n",
    "    output = {}\n",
    "    for i in d:\n",
    "        if len(d[i]) >5:\n",
    "            output[i] = sum(d[i])/len(d[i])\n",
    "    \n",
    "    print(output)\n",
    "        \n",
    "      \n",
    "    \n",
    "    "
   ]
  }
 ],
 "metadata": {
  "kernelspec": {
   "display_name": "Python 3.7.6 64-bit",
   "language": "python",
   "name": "python37664bit65f4c716043e4f238f23dd0a361d4646"
  },
  "language_info": {
   "codemirror_mode": {
    "name": "ipython",
    "version": 3
   },
   "file_extension": ".py",
   "mimetype": "text/x-python",
   "name": "python",
   "nbconvert_exporter": "python",
   "pygments_lexer": "ipython3",
   "version": "3.7.6"
  }
 },
 "nbformat": 4,
 "nbformat_minor": 2
}
