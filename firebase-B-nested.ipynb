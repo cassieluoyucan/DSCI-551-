{
 "cells": [
  {
   "cell_type": "code",
   "execution_count": 1,
   "metadata": {
    "collapsed": true
   },
   "outputs": [],
   "source": [
    "import requests\n",
    "import json \n",
    "import sys"
   ]
  },
  {
   "cell_type": "code",
   "execution_count": 2,
   "metadata": {
    "collapsed": true
   },
   "outputs": [],
   "source": [
    "url = \"https://inf551-52230.firebaseio.com/world/\"\n",
    "#city_url = url +\"city.json\"\n",
    "\n",
    "#countrylanguage = url+\"countrylanguage.json\"\n",
    "\n",
    "country_nested = url+\"country_nested.json\"\n",
    "#country_url = url +\"country.json\"\n",
    "    \n",
    "### get country for continet equal to north america \n",
    "    \n",
    "q1 = country_nested+'?orderBy=\"Continent\"&equalTo=' + '\"North America\"'\n",
    "    \n",
    "    \n",
    "#https://inf551-52230.firebaseio.com/world/country.json?orderBy=\"Continent\"&equalTo=\"North America\"\n",
    "response = requests.get(q1)\n",
    "country_continent = response.json()\n",
    "    \n",
    "## get the name from country whose Continent = 'North America'\n",
    "#name_of_country = [country_continent[i][\"Name\"] for i in country_continent]"
   ]
  },
  {
   "cell_type": "code",
   "execution_count": 3,
   "metadata": {},
   "outputs": [
    {
     "name": "stdout",
     "output_type": "stream",
     "text": [
      "['Cayman Islands', 'Saint Pierre and Miquelon', 'Bermuda', 'United States', 'Montserrat', 'Haiti', 'Dominica', 'Trinidad and Tobago', 'Virgin Islands, U.S.', 'Turks and Caicos Islands', 'Puerto Rico', 'Netherlands Antilles', 'Antigua and Barbuda', 'Honduras', 'Bahamas', 'El Salvador', 'Mexico', 'Nicaragua', 'Anguilla', 'Grenada', 'Costa Rica', 'Dominican Republic', 'Martinique', 'Virgin Islands, British', 'Greenland', 'Guatemala', 'Belize', 'Barbados', 'Cuba', 'Saint Vincent and the Grenadines', 'Saint Lucia', 'Jamaica', 'Saint Kitts and Nevis', 'Guadeloupe', 'Aruba', 'Canada', 'Panama']\n"
     ]
    }
   ],
   "source": [
    "print(name_of_country)"
   ]
  },
  {
   "cell_type": "code",
   "execution_count": 4,
   "metadata": {
    "collapsed": true
   },
   "outputs": [],
   "source": [
    "### to get the code of each country in 'North America'\n",
    "\n",
    "code_country_nested = [ i for i in country_continent]"
   ]
  },
  {
   "cell_type": "code",
   "execution_count": 5,
   "metadata": {},
   "outputs": [
    {
     "name": "stdout",
     "output_type": "stream",
     "text": [
      "['CYM', 'SPM', 'BMU', 'USA', 'MSR', 'HTI', 'DMA', 'TTO', 'VIR', 'TCA', 'PRI', 'ANT', 'ATG', 'HND', 'BHS', 'SLV', 'MEX', 'NIC', 'AIA', 'GRD', 'CRI', 'DOM', 'MTQ', 'VGB', 'GRL', 'GTM', 'BLZ', 'BRB', 'CUB', 'VCT', 'LCA', 'JAM', 'KNA', 'GLP', 'ABW', 'CAN', 'PAN']\n"
     ]
    }
   ],
   "source": [
    "print(code_country_nested)"
   ]
  },
  {
   "cell_type": "code",
   "execution_count": 16,
   "metadata": {},
   "outputs": [
    {
     "name": "stdout",
     "output_type": "stream",
     "text": [
      "{'CYM': {'Capital': 553, 'Code2': 'KY', 'Continent': 'North America', 'GNP': 1263.0, 'GNPOld': 1186.0, 'GovernmentForm': 'Dependent Territory of the UK', 'HeadOfState': 'Elisabeth II', 'IndepYear': 0, 'LifeExpectancy': 78.9, 'LocalName': 'Cayman Islands', 'Name': 'Cayman Islands', 'Population': 38000, 'Region': 'Caribbean', 'SurfaceArea': 264.0, 'languages': {'English': {'IsOfficial': 'T', 'Percentage': 0.0}}}, 'SPM': {'Capital': 3067, 'Code2': 'PM', 'Continent': 'North America', 'GNP': 0.0, 'GNPOld': 0.0, 'GovernmentForm': 'Territorial Collectivity of France', 'HeadOfState': 'Jacques Chirac', 'IndepYear': 0, 'LifeExpectancy': 77.6, 'LocalName': 'Saint-Pierre-et-Miquelon', 'Name': 'Saint Pierre and Miquelon', 'Population': 7000, 'Region': 'North America', 'SurfaceArea': 242.0, 'languages': {'French': {'IsOfficial': 'T', 'Percentage': 0.0}}}, 'BMU': {'Capital': 191, 'Code2': 'BM', 'Continent': 'North America', 'GNP': 2328.0, 'GNPOld': 2190.0, 'GovernmentForm': 'Dependent Territory of the UK', 'HeadOfState': 'Elisabeth II', 'IndepYear': 0, 'LifeExpectancy': 76.9, 'LocalName': 'Bermuda', 'Name': 'Bermuda', 'Population': 65000, 'Region': 'North America', 'SurfaceArea': 53.0, 'languages': {'English': {'IsOfficial': 'T', 'Percentage': 100.0}}}, 'USA': {'Capital': 3813, 'Code2': 'US', 'Continent': 'North America', 'GNP': 8510700.0, 'GNPOld': 8110900.0, 'GovernmentForm': 'Federal Republic', 'HeadOfState': 'George W. Bush', 'IndepYear': 1776, 'LifeExpectancy': 77.1, 'LocalName': 'United States', 'Name': 'United States', 'Population': 278357000, 'Region': 'North America', 'SurfaceArea': 9363520.0, 'languages': {'Chinese': {'IsOfficial': 'F', 'Percentage': 0.6}, 'English': {'IsOfficial': 'T', 'Percentage': 86.2}, 'French': {'IsOfficial': 'F', 'Percentage': 0.7}, 'German': {'IsOfficial': 'F', 'Percentage': 0.7}, 'Italian': {'IsOfficial': 'F', 'Percentage': 0.6}, 'Japanese': {'IsOfficial': 'F', 'Percentage': 0.2}, 'Korean': {'IsOfficial': 'F', 'Percentage': 0.3}, 'Polish': {'IsOfficial': 'F', 'Percentage': 0.3}, 'Portuguese': {'IsOfficial': 'F', 'Percentage': 0.2}, 'Spanish': {'IsOfficial': 'F', 'Percentage': 7.5}, 'Tagalog': {'IsOfficial': 'F', 'Percentage': 0.4}, 'Vietnamese': {'IsOfficial': 'F', 'Percentage': 0.2}}}, 'MSR': {'Capital': 2697, 'Code2': 'MS', 'Continent': 'North America', 'GNP': 109.0, 'GNPOld': 0.0, 'GovernmentForm': 'Dependent Territory of the UK', 'HeadOfState': 'Elisabeth II', 'IndepYear': 0, 'LifeExpectancy': 78.0, 'LocalName': 'Montserrat', 'Name': 'Montserrat', 'Population': 11000, 'Region': 'Caribbean', 'SurfaceArea': 102.0, 'languages': {'English': {'IsOfficial': 'T', 'Percentage': 0.0}}}, 'HTI': {'Capital': 929, 'Code2': 'HT', 'Continent': 'North America', 'GNP': 3459.0, 'GNPOld': 3107.0, 'GovernmentForm': 'Republic', 'HeadOfState': 'Jean-Bertrand Aristide', 'IndepYear': 1804, 'LifeExpectancy': 49.2, 'LocalName': 'HaÃ¯ti/Dayti', 'Name': 'Haiti', 'Population': 8222000, 'Region': 'Caribbean', 'SurfaceArea': 27750.0, 'languages': {'French': {'IsOfficial': 'T', 'Percentage': 0.0}, 'Haiti Creole': {'IsOfficial': 'F', 'Percentage': 100.0}}}, 'DMA': {'Capital': 586, 'Code2': 'DM', 'Continent': 'North America', 'GNP': 256.0, 'GNPOld': 243.0, 'GovernmentForm': 'Republic', 'HeadOfState': 'Vernon Shaw', 'IndepYear': 1978, 'LifeExpectancy': 73.4, 'LocalName': 'Dominica', 'Name': 'Dominica', 'Population': 71000, 'Region': 'Caribbean', 'SurfaceArea': 751.0, 'languages': {'Creole English': {'IsOfficial': 'F', 'Percentage': 100.0}, 'Creole French': {'IsOfficial': 'F', 'Percentage': 0.0}}}, 'TTO': {'Capital': 3336, 'Code2': 'TT', 'Continent': 'North America', 'GNP': 6232.0, 'GNPOld': 5867.0, 'GovernmentForm': 'Republic', 'HeadOfState': 'Arthur N. R. Robinson', 'IndepYear': 1962, 'LifeExpectancy': 68.0, 'LocalName': 'Trinidad and Tobago', 'Name': 'Trinidad and Tobago', 'Population': 1295000, 'Region': 'Caribbean', 'SurfaceArea': 5130.0, 'languages': {'Creole English': {'IsOfficial': 'F', 'Percentage': 2.9}, 'English': {'IsOfficial': 'F', 'Percentage': 93.5}, 'Hindi': {'IsOfficial': 'F', 'Percentage': 3.4}}}, 'VIR': {'Capital': 4067, 'Code2': 'VI', 'Continent': 'North America', 'GNP': 0.0, 'GNPOld': 0.0, 'GovernmentForm': 'US Territory', 'HeadOfState': 'George W. Bush', 'IndepYear': 0, 'LifeExpectancy': 78.1, 'LocalName': 'Virgin Islands of the United States', 'Name': 'Virgin Islands, U.S.', 'Population': 93000, 'Region': 'Caribbean', 'SurfaceArea': 347.0, 'languages': {'English': {'IsOfficial': 'T', 'Percentage': 81.7}, 'French': {'IsOfficial': 'F', 'Percentage': 2.5}, 'Spanish': {'IsOfficial': 'F', 'Percentage': 13.3}}}, 'TCA': {'Capital': 3423, 'Code2': 'TC', 'Continent': 'North America', 'GNP': 96.0, 'GNPOld': 0.0, 'GovernmentForm': 'Dependent Territory of the UK', 'HeadOfState': 'Elisabeth II', 'IndepYear': 0, 'LifeExpectancy': 73.3, 'LocalName': 'The Turks and Caicos Islands', 'Name': 'Turks and Caicos Islands', 'Population': 17000, 'Region': 'Caribbean', 'SurfaceArea': 430.0, 'languages': {'English': {'IsOfficial': 'T', 'Percentage': 0.0}}}, 'PRI': {'Capital': 2919, 'Code2': 'PR', 'Continent': 'North America', 'GNP': 34100.0, 'GNPOld': 32100.0, 'GovernmentForm': 'Commonwealth of the US', 'HeadOfState': 'George W. Bush', 'IndepYear': 0, 'LifeExpectancy': 75.6, 'LocalName': 'Puerto Rico', 'Name': 'Puerto Rico', 'Population': 3869000, 'Region': 'Caribbean', 'SurfaceArea': 8875.0, 'languages': {'English': {'IsOfficial': 'F', 'Percentage': 47.4}, 'Spanish': {'IsOfficial': 'T', 'Percentage': 51.3}}}, 'ANT': {'Capital': 33, 'Code2': 'AN', 'Continent': 'North America', 'GNP': 1941.0, 'GNPOld': 0.0, 'GovernmentForm': 'Nonmetropolitan Territory of The Netherlands', 'HeadOfState': 'Beatrix', 'IndepYear': 0, 'LifeExpectancy': 74.7, 'LocalName': 'Nederlandse Antillen', 'Name': 'Netherlands Antilles', 'Population': 217000, 'Region': 'Caribbean', 'SurfaceArea': 800.0, 'languages': {'Dutch': {'IsOfficial': 'T', 'Percentage': 0.0}, 'English': {'IsOfficial': 'F', 'Percentage': 7.8}, 'Papiamento': {'IsOfficial': 'T', 'Percentage': 86.2}}}, 'ATG': {'Capital': 63, 'Code2': 'AG', 'Continent': 'North America', 'GNP': 612.0, 'GNPOld': 584.0, 'GovernmentForm': 'Constitutional Monarchy', 'HeadOfState': 'Elisabeth II', 'IndepYear': 1981, 'LifeExpectancy': 70.5, 'LocalName': 'Antigua and Barbuda', 'Name': 'Antigua and Barbuda', 'Population': 68000, 'Region': 'Caribbean', 'SurfaceArea': 442.0, 'languages': {'Creole English': {'IsOfficial': 'F', 'Percentage': 95.7}, 'English': {'IsOfficial': 'T', 'Percentage': 0.0}}}, 'HND': {'Capital': 933, 'Code2': 'HN', 'Continent': 'North America', 'GNP': 5333.0, 'GNPOld': 4697.0, 'GovernmentForm': 'Republic', 'HeadOfState': 'Carlos Roberto Flores FacussÃ©', 'IndepYear': 1838, 'LifeExpectancy': 69.9, 'LocalName': 'Honduras', 'Name': 'Honduras', 'Population': 6485000, 'Region': 'Central America', 'SurfaceArea': 112088.0, 'languages': {'Creole English': {'IsOfficial': 'F', 'Percentage': 0.2}, 'Garifuna': {'IsOfficial': 'F', 'Percentage': 1.3}, 'Miskito': {'IsOfficial': 'F', 'Percentage': 0.2}, 'Spanish': {'IsOfficial': 'T', 'Percentage': 97.2}}}, 'BHS': {'Capital': 148, 'Code2': 'BS', 'Continent': 'North America', 'GNP': 3527.0, 'GNPOld': 3347.0, 'GovernmentForm': 'Constitutional Monarchy', 'HeadOfState': 'Elisabeth II', 'IndepYear': 1973, 'LifeExpectancy': 71.1, 'LocalName': 'The Bahamas', 'Name': 'Bahamas', 'Population': 307000, 'Region': 'Caribbean', 'SurfaceArea': 13878.0, 'languages': {'Creole English': {'IsOfficial': 'F', 'Percentage': 89.7}, 'Creole French': {'IsOfficial': 'F', 'Percentage': 10.3}}}, 'SLV': {'Capital': 645, 'Code2': 'SV', 'Continent': 'North America', 'GNP': 11863.0, 'GNPOld': 11203.0, 'GovernmentForm': 'Republic', 'HeadOfState': 'Francisco Guillermo Flores PÃ©rez', 'IndepYear': 1841, 'LifeExpectancy': 69.7, 'LocalName': 'El Salvador', 'Name': 'El Salvador', 'Population': 6276000, 'Region': 'Central America', 'SurfaceArea': 21041.0, 'languages': {'Nahua': {'IsOfficial': 'F', 'Percentage': 0.0}, 'Spanish': {'IsOfficial': 'T', 'Percentage': 100.0}}}, 'MEX': {'Capital': 2515, 'Code2': 'MX', 'Continent': 'North America', 'GNP': 414972.0, 'GNPOld': 401461.0, 'GovernmentForm': 'Federal Republic', 'HeadOfState': 'Vicente Fox Quesada', 'IndepYear': 1810, 'LifeExpectancy': 71.5, 'LocalName': 'MÃ©xico', 'Name': 'Mexico', 'Population': 98881000, 'Region': 'Central America', 'SurfaceArea': 1958201.0, 'languages': {'Mixtec': {'IsOfficial': 'F', 'Percentage': 0.6}, 'NÃ¡huatl': {'IsOfficial': 'F', 'Percentage': 1.8}, 'OtomÃ\\xad': {'IsOfficial': 'F', 'Percentage': 0.4}, 'Spanish': {'IsOfficial': 'T', 'Percentage': 92.1}, 'Yucatec': {'IsOfficial': 'F', 'Percentage': 1.1}, 'Zapotec': {'IsOfficial': 'F', 'Percentage': 0.6}}}, 'NIC': {'Capital': 2734, 'Code2': 'NI', 'Continent': 'North America', 'GNP': 1988.0, 'GNPOld': 2023.0, 'GovernmentForm': 'Republic', 'HeadOfState': 'Arnoldo AlemÃ¡n Lacayo', 'IndepYear': 1838, 'LifeExpectancy': 68.7, 'LocalName': 'Nicaragua', 'Name': 'Nicaragua', 'Population': 5074000, 'Region': 'Central America', 'SurfaceArea': 130000.0, 'languages': {'Creole English': {'IsOfficial': 'F', 'Percentage': 0.5}, 'Miskito': {'IsOfficial': 'F', 'Percentage': 1.6}, 'Spanish': {'IsOfficial': 'T', 'Percentage': 97.6}, 'Sumo': {'IsOfficial': 'F', 'Percentage': 0.2}}}, 'AIA': {'Capital': 62, 'Code2': 'AI', 'Continent': 'North America', 'GNP': 63.2, 'GNPOld': 0.0, 'GovernmentForm': 'Dependent Territory of the UK', 'HeadOfState': 'Elisabeth II', 'IndepYear': 0, 'LifeExpectancy': 76.1, 'LocalName': 'Anguilla', 'Name': 'Anguilla', 'Population': 8000, 'Region': 'Caribbean', 'SurfaceArea': 96.0, 'languages': {'English': {'IsOfficial': 'T', 'Percentage': 0.0}}}, 'GRD': {'Capital': 916, 'Code2': 'GD', 'Continent': 'North America', 'GNP': 318.0, 'GNPOld': 0.0, 'GovernmentForm': 'Constitutional Monarchy', 'HeadOfState': 'Elisabeth II', 'IndepYear': 1974, 'LifeExpectancy': 64.5, 'LocalName': 'Grenada', 'Name': 'Grenada', 'Population': 94000, 'Region': 'Caribbean', 'SurfaceArea': 344.0, 'languages': {'Creole English': {'IsOfficial': 'F', 'Percentage': 100.0}}}, 'CRI': {'Capital': 584, 'Code2': 'CR', 'Continent': 'North America', 'GNP': 10226.0, 'GNPOld': 9757.0, 'GovernmentForm': 'Republic', 'HeadOfState': 'Miguel Ã\\x81ngel RodrÃ\\xadguez EcheverrÃ\\xada', 'IndepYear': 1821, 'LifeExpectancy': 75.8, 'LocalName': 'Costa Rica', 'Name': 'Costa Rica', 'Population': 4023000, 'Region': 'Central America', 'SurfaceArea': 51100.0, 'languages': {'Chibcha': {'IsOfficial': 'F', 'Percentage': 0.3}, 'Chinese': {'IsOfficial': 'F', 'Percentage': 0.2}, 'Creole English': {'IsOfficial': 'F', 'Percentage': 2.0}, 'Spanish': {'IsOfficial': 'T', 'Percentage': 97.5}}}, 'DOM': {'Capital': 587, 'Code2': 'DO', 'Continent': 'North America', 'GNP': 15846.0, 'GNPOld': 15076.0, 'GovernmentForm': 'Republic', 'HeadOfState': 'HipÃ³lito MejÃ\\xada DomÃ\\xadnguez', 'IndepYear': 1844, 'LifeExpectancy': 73.2, 'LocalName': 'RepÃºblica Dominicana', 'Name': 'Dominican Republic', 'Population': 8495000, 'Region': 'Caribbean', 'SurfaceArea': 48511.0, 'languages': {'Creole French': {'IsOfficial': 'F', 'Percentage': 2.0}, 'Spanish': {'IsOfficial': 'T', 'Percentage': 98.0}}}, 'MTQ': {'Capital': 2508, 'Code2': 'MQ', 'Continent': 'North America', 'GNP': 2731.0, 'GNPOld': 2559.0, 'GovernmentForm': 'Overseas Department of France', 'HeadOfState': 'Jacques Chirac', 'IndepYear': 0, 'LifeExpectancy': 78.3, 'LocalName': 'Martinique', 'Name': 'Martinique', 'Population': 395000, 'Region': 'Caribbean', 'SurfaceArea': 1102.0, 'languages': {'Creole French': {'IsOfficial': 'F', 'Percentage': 96.6}, 'French': {'IsOfficial': 'T', 'Percentage': 0.0}}}, 'VGB': {'Capital': 537, 'Code2': 'VG', 'Continent': 'North America', 'GNP': 612.0, 'GNPOld': 573.0, 'GovernmentForm': 'Dependent Territory of the UK', 'HeadOfState': 'Elisabeth II', 'IndepYear': 0, 'LifeExpectancy': 75.4, 'LocalName': 'British Virgin Islands', 'Name': 'Virgin Islands, British', 'Population': 21000, 'Region': 'Caribbean', 'SurfaceArea': 151.0, 'languages': {'English': {'IsOfficial': 'T', 'Percentage': 0.0}}}, 'GRL': {'Capital': 917, 'Code2': 'GL', 'Continent': 'North America', 'GNP': 0.0, 'GNPOld': 0.0, 'GovernmentForm': 'Part of Denmark', 'HeadOfState': 'Margrethe II', 'IndepYear': 0, 'LifeExpectancy': 68.1, 'LocalName': 'Kalaallit Nunaat/GrÃ¸nland', 'Name': 'Greenland', 'Population': 56000, 'Region': 'North America', 'SurfaceArea': 2166090.0, 'languages': {'Danish': {'IsOfficial': 'T', 'Percentage': 12.5}, 'Greenlandic': {'IsOfficial': 'T', 'Percentage': 87.5}}}, 'GTM': {'Capital': 922, 'Code2': 'GT', 'Continent': 'North America', 'GNP': 19008.0, 'GNPOld': 17797.0, 'GovernmentForm': 'Republic', 'HeadOfState': 'Alfonso Portillo Cabrera', 'IndepYear': 1821, 'LifeExpectancy': 66.2, 'LocalName': 'Guatemala', 'Name': 'Guatemala', 'Population': 11385000, 'Region': 'Central America', 'SurfaceArea': 108889.0, 'languages': {'Cakchiquel': {'IsOfficial': 'F', 'Percentage': 8.9}, 'KekchÃ\\xad': {'IsOfficial': 'F', 'Percentage': 4.9}, 'Mam': {'IsOfficial': 'F', 'Percentage': 2.7}, 'QuichÃ©': {'IsOfficial': 'F', 'Percentage': 10.1}, 'Spanish': {'IsOfficial': 'T', 'Percentage': 64.7}}}, 'BLZ': {'Capital': 185, 'Code2': 'BZ', 'Continent': 'North America', 'GNP': 630.0, 'GNPOld': 616.0, 'GovernmentForm': 'Constitutional Monarchy', 'HeadOfState': 'Elisabeth II', 'IndepYear': 1981, 'LifeExpectancy': 70.9, 'LocalName': 'Belize', 'Name': 'Belize', 'Population': 241000, 'Region': 'Central America', 'SurfaceArea': 22696.0, 'languages': {'English': {'IsOfficial': 'T', 'Percentage': 50.8}, 'Garifuna': {'IsOfficial': 'F', 'Percentage': 6.8}, 'Maya Languages': {'IsOfficial': 'F', 'Percentage': 9.6}, 'Spanish': {'IsOfficial': 'F', 'Percentage': 31.6}}}, 'BRB': {'Capital': 174, 'Code2': 'BB', 'Continent': 'North America', 'GNP': 2223.0, 'GNPOld': 2186.0, 'GovernmentForm': 'Constitutional Monarchy', 'HeadOfState': 'Elisabeth II', 'IndepYear': 1966, 'LifeExpectancy': 73.0, 'LocalName': 'Barbados', 'Name': 'Barbados', 'Population': 270000, 'Region': 'Caribbean', 'SurfaceArea': 430.0, 'languages': {'Bajan': {'IsOfficial': 'F', 'Percentage': 95.1}, 'English': {'IsOfficial': 'T', 'Percentage': 0.0}}}, 'CUB': {'Capital': 2413, 'Code2': 'CU', 'Continent': 'North America', 'GNP': 17843.0, 'GNPOld': 18862.0, 'GovernmentForm': 'Socialistic Republic', 'HeadOfState': 'Fidel Castro Ruz', 'IndepYear': 1902, 'LifeExpectancy': 76.2, 'LocalName': 'Cuba', 'Name': 'Cuba', 'Population': 11201000, 'Region': 'Caribbean', 'SurfaceArea': 110861.0, 'languages': {'Spanish': {'IsOfficial': 'T', 'Percentage': 100.0}}}, 'VCT': {'Capital': 3066, 'Code2': 'VC', 'Continent': 'North America', 'GNP': 285.0, 'GNPOld': 0.0, 'GovernmentForm': 'Constitutional Monarchy', 'HeadOfState': 'Elisabeth II', 'IndepYear': 1979, 'LifeExpectancy': 72.3, 'LocalName': 'Saint Vincent and the Grenadines', 'Name': 'Saint Vincent and the Grenadines', 'Population': 114000, 'Region': 'Caribbean', 'SurfaceArea': 388.0, 'languages': {'Creole English': {'IsOfficial': 'F', 'Percentage': 99.1}, 'English': {'IsOfficial': 'T', 'Percentage': 0.0}}}, 'LCA': {'Capital': 3065, 'Code2': 'LC', 'Continent': 'North America', 'GNP': 571.0, 'GNPOld': 0.0, 'GovernmentForm': 'Constitutional Monarchy', 'HeadOfState': 'Elisabeth II', 'IndepYear': 1979, 'LifeExpectancy': 72.3, 'LocalName': 'Saint Lucia', 'Name': 'Saint Lucia', 'Population': 154000, 'Region': 'Caribbean', 'SurfaceArea': 622.0, 'languages': {'Creole French': {'IsOfficial': 'F', 'Percentage': 80.0}, 'English': {'IsOfficial': 'T', 'Percentage': 20.0}}}, 'JAM': {'Capital': 1530, 'Code2': 'JM', 'Continent': 'North America', 'GNP': 6871.0, 'GNPOld': 6722.0, 'GovernmentForm': 'Constitutional Monarchy', 'HeadOfState': 'Elisabeth II', 'IndepYear': 1962, 'LifeExpectancy': 75.2, 'LocalName': 'Jamaica', 'Name': 'Jamaica', 'Population': 2583000, 'Region': 'Caribbean', 'SurfaceArea': 10990.0, 'languages': {'Creole English': {'IsOfficial': 'F', 'Percentage': 94.2}, 'Hindi': {'IsOfficial': 'F', 'Percentage': 1.9}}}, 'KNA': {'Capital': 3064, 'Code2': 'KN', 'Continent': 'North America', 'GNP': 299.0, 'GNPOld': 0.0, 'GovernmentForm': 'Constitutional Monarchy', 'HeadOfState': 'Elisabeth II', 'IndepYear': 1983, 'LifeExpectancy': 70.7, 'LocalName': 'Saint Kitts and Nevis', 'Name': 'Saint Kitts and Nevis', 'Population': 38000, 'Region': 'Caribbean', 'SurfaceArea': 261.0, 'languages': {'Creole English': {'IsOfficial': 'F', 'Percentage': 100.0}, 'English': {'IsOfficial': 'T', 'Percentage': 0.0}}}, 'GLP': {'Capital': 919, 'Code2': 'GP', 'Continent': 'North America', 'GNP': 3501.0, 'GNPOld': 0.0, 'GovernmentForm': 'Overseas Department of France', 'HeadOfState': 'Jacques Chirac', 'IndepYear': 0, 'LifeExpectancy': 77.0, 'LocalName': 'Guadeloupe', 'Name': 'Guadeloupe', 'Population': 456000, 'Region': 'Caribbean', 'SurfaceArea': 1705.0, 'languages': {'Creole French': {'IsOfficial': 'F', 'Percentage': 95.0}, 'French': {'IsOfficial': 'T', 'Percentage': 0.0}}}, 'ABW': {'Capital': 129, 'Code2': 'AW', 'Continent': 'North America', 'GNP': 828.0, 'GNPOld': 793.0, 'GovernmentForm': 'Nonmetropolitan Territory of The Netherlands', 'HeadOfState': 'Beatrix', 'IndepYear': 0, 'LifeExpectancy': 78.4, 'LocalName': 'Aruba', 'Name': 'Aruba', 'Population': 103000, 'Region': 'Caribbean', 'SurfaceArea': 193.0, 'languages': {'Dutch': {'IsOfficial': 'T', 'Percentage': 5.3}, 'English': {'IsOfficial': 'F', 'Percentage': 9.5}, 'Papiamento': {'IsOfficial': 'F', 'Percentage': 76.7}, 'Spanish': {'IsOfficial': 'F', 'Percentage': 7.4}}}, 'CAN': {'Capital': 1822, 'Code2': 'CA', 'Continent': 'North America', 'GNP': 598862.0, 'GNPOld': 625626.0, 'GovernmentForm': 'Constitutional Monarchy, Federation', 'HeadOfState': 'Elisabeth II', 'IndepYear': 1867, 'LifeExpectancy': 79.4, 'LocalName': 'Canada', 'Name': 'Canada', 'Population': 31147000, 'Region': 'North America', 'SurfaceArea': 9970610.0, 'languages': {'Chinese': {'IsOfficial': 'F', 'Percentage': 2.5}, 'Dutch': {'IsOfficial': 'F', 'Percentage': 0.5}, 'English': {'IsOfficial': 'T', 'Percentage': 60.4}, 'Eskimo Languages': {'IsOfficial': 'F', 'Percentage': 0.1}, 'French': {'IsOfficial': 'T', 'Percentage': 23.4}, 'German': {'IsOfficial': 'F', 'Percentage': 1.6}, 'Italian': {'IsOfficial': 'F', 'Percentage': 1.7}, 'Polish': {'IsOfficial': 'F', 'Percentage': 0.7}, 'Portuguese': {'IsOfficial': 'F', 'Percentage': 0.7}, 'Punjabi': {'IsOfficial': 'F', 'Percentage': 0.7}, 'Spanish': {'IsOfficial': 'F', 'Percentage': 0.7}, 'Ukrainian': {'IsOfficial': 'F', 'Percentage': 0.6}}}, 'PAN': {'Capital': 2882, 'Code2': 'PA', 'Continent': 'North America', 'GNP': 9131.0, 'GNPOld': 8700.0, 'GovernmentForm': 'Republic', 'HeadOfState': 'Mireya Elisa Moscoso RodrÃ\\xadguez', 'IndepYear': 1903, 'LifeExpectancy': 75.5, 'LocalName': 'PanamÃ¡', 'Name': 'Panama', 'Population': 2856000, 'Region': 'Central America', 'SurfaceArea': 75517.0, 'languages': {'Arabic': {'IsOfficial': 'F', 'Percentage': 0.6}, 'Creole English': {'IsOfficial': 'F', 'Percentage': 14.0}, 'Cuna': {'IsOfficial': 'F', 'Percentage': 2.0}, 'Embera': {'IsOfficial': 'F', 'Percentage': 0.6}, 'GuaymÃ\\xad': {'IsOfficial': 'F', 'Percentage': 5.3}, 'Spanish': {'IsOfficial': 'T', 'Percentage': 76.8}}}}\n"
     ]
    }
   ],
   "source": [
    "print(country_continent ) "
   ]
  },
  {
   "cell_type": "code",
   "execution_count": 20,
   "metadata": {},
   "outputs": [],
   "source": [
    "from collections import defaultdict\n",
    "\n",
    "output = defaultdict(list)\n",
    "for i in country_continent:\n",
    "    for language in country_continent[i][\"languages\"]:\n",
    "        #print(language)\n",
    "        if country_continent[i][\"languages\"][language][\"IsOfficial\"] == \"T\":\n",
    "            output[country_continent[i][\"Name\"]].append(language)\n",
    "            \n",
    "        "
   ]
  },
  {
   "cell_type": "code",
   "execution_count": 21,
   "metadata": {},
   "outputs": [
    {
     "name": "stdout",
     "output_type": "stream",
     "text": [
      "defaultdict(<class 'list'>, {'Cayman Islands': ['English'], 'Saint Pierre and Miquelon': ['French'], 'Bermuda': ['English'], 'United States': ['English'], 'Montserrat': ['English'], 'Haiti': ['French'], 'Virgin Islands, U.S.': ['English'], 'Turks and Caicos Islands': ['English'], 'Puerto Rico': ['Spanish'], 'Netherlands Antilles': ['Dutch', 'Papiamento'], 'Antigua and Barbuda': ['English'], 'Honduras': ['Spanish'], 'El Salvador': ['Spanish'], 'Mexico': ['Spanish'], 'Nicaragua': ['Spanish'], 'Anguilla': ['English'], 'Costa Rica': ['Spanish'], 'Dominican Republic': ['Spanish'], 'Martinique': ['French'], 'Virgin Islands, British': ['English'], 'Greenland': ['Danish', 'Greenlandic'], 'Guatemala': ['Spanish'], 'Belize': ['English'], 'Barbados': ['English'], 'Cuba': ['Spanish'], 'Saint Vincent and the Grenadines': ['English'], 'Saint Lucia': ['English'], 'Saint Kitts and Nevis': ['English'], 'Guadeloupe': ['French'], 'Aruba': ['Dutch'], 'Canada': ['English', 'French'], 'Panama': ['Spanish']})\n"
     ]
    }
   ],
   "source": [
    "print(output)"
   ]
  },
  {
   "cell_type": "code",
   "execution_count": 24,
   "metadata": {
    "collapsed": true
   },
   "outputs": [],
   "source": [
    "a =\"North America\"\n",
    "q1 = country_nested+'?orderBy=\"Continent\"&equalTo=' + '\"' + a + '\"'\n",
    "response = requests.get(q1)\n",
    "test = response.json()"
   ]
  },
  {
   "cell_type": "code",
   "execution_count": 25,
   "metadata": {},
   "outputs": [
    {
     "name": "stdout",
     "output_type": "stream",
     "text": [
      "{'CYM': {'Capital': 553, 'Code2': 'KY', 'Continent': 'North America', 'GNP': 1263.0, 'GNPOld': 1186.0, 'GovernmentForm': 'Dependent Territory of the UK', 'HeadOfState': 'Elisabeth II', 'IndepYear': 0, 'LifeExpectancy': 78.9, 'LocalName': 'Cayman Islands', 'Name': 'Cayman Islands', 'Population': 38000, 'Region': 'Caribbean', 'SurfaceArea': 264.0, 'languages': {'English': {'IsOfficial': 'T', 'Percentage': 0.0}}}, 'SPM': {'Capital': 3067, 'Code2': 'PM', 'Continent': 'North America', 'GNP': 0.0, 'GNPOld': 0.0, 'GovernmentForm': 'Territorial Collectivity of France', 'HeadOfState': 'Jacques Chirac', 'IndepYear': 0, 'LifeExpectancy': 77.6, 'LocalName': 'Saint-Pierre-et-Miquelon', 'Name': 'Saint Pierre and Miquelon', 'Population': 7000, 'Region': 'North America', 'SurfaceArea': 242.0, 'languages': {'French': {'IsOfficial': 'T', 'Percentage': 0.0}}}, 'BMU': {'Capital': 191, 'Code2': 'BM', 'Continent': 'North America', 'GNP': 2328.0, 'GNPOld': 2190.0, 'GovernmentForm': 'Dependent Territory of the UK', 'HeadOfState': 'Elisabeth II', 'IndepYear': 0, 'LifeExpectancy': 76.9, 'LocalName': 'Bermuda', 'Name': 'Bermuda', 'Population': 65000, 'Region': 'North America', 'SurfaceArea': 53.0, 'languages': {'English': {'IsOfficial': 'T', 'Percentage': 100.0}}}, 'USA': {'Capital': 3813, 'Code2': 'US', 'Continent': 'North America', 'GNP': 8510700.0, 'GNPOld': 8110900.0, 'GovernmentForm': 'Federal Republic', 'HeadOfState': 'George W. Bush', 'IndepYear': 1776, 'LifeExpectancy': 77.1, 'LocalName': 'United States', 'Name': 'United States', 'Population': 278357000, 'Region': 'North America', 'SurfaceArea': 9363520.0, 'languages': {'Chinese': {'IsOfficial': 'F', 'Percentage': 0.6}, 'English': {'IsOfficial': 'T', 'Percentage': 86.2}, 'French': {'IsOfficial': 'F', 'Percentage': 0.7}, 'German': {'IsOfficial': 'F', 'Percentage': 0.7}, 'Italian': {'IsOfficial': 'F', 'Percentage': 0.6}, 'Japanese': {'IsOfficial': 'F', 'Percentage': 0.2}, 'Korean': {'IsOfficial': 'F', 'Percentage': 0.3}, 'Polish': {'IsOfficial': 'F', 'Percentage': 0.3}, 'Portuguese': {'IsOfficial': 'F', 'Percentage': 0.2}, 'Spanish': {'IsOfficial': 'F', 'Percentage': 7.5}, 'Tagalog': {'IsOfficial': 'F', 'Percentage': 0.4}, 'Vietnamese': {'IsOfficial': 'F', 'Percentage': 0.2}}}, 'MSR': {'Capital': 2697, 'Code2': 'MS', 'Continent': 'North America', 'GNP': 109.0, 'GNPOld': 0.0, 'GovernmentForm': 'Dependent Territory of the UK', 'HeadOfState': 'Elisabeth II', 'IndepYear': 0, 'LifeExpectancy': 78.0, 'LocalName': 'Montserrat', 'Name': 'Montserrat', 'Population': 11000, 'Region': 'Caribbean', 'SurfaceArea': 102.0, 'languages': {'English': {'IsOfficial': 'T', 'Percentage': 0.0}}}, 'HTI': {'Capital': 929, 'Code2': 'HT', 'Continent': 'North America', 'GNP': 3459.0, 'GNPOld': 3107.0, 'GovernmentForm': 'Republic', 'HeadOfState': 'Jean-Bertrand Aristide', 'IndepYear': 1804, 'LifeExpectancy': 49.2, 'LocalName': 'HaÃ¯ti/Dayti', 'Name': 'Haiti', 'Population': 8222000, 'Region': 'Caribbean', 'SurfaceArea': 27750.0, 'languages': {'French': {'IsOfficial': 'T', 'Percentage': 0.0}, 'Haiti Creole': {'IsOfficial': 'F', 'Percentage': 100.0}}}, 'DMA': {'Capital': 586, 'Code2': 'DM', 'Continent': 'North America', 'GNP': 256.0, 'GNPOld': 243.0, 'GovernmentForm': 'Republic', 'HeadOfState': 'Vernon Shaw', 'IndepYear': 1978, 'LifeExpectancy': 73.4, 'LocalName': 'Dominica', 'Name': 'Dominica', 'Population': 71000, 'Region': 'Caribbean', 'SurfaceArea': 751.0, 'languages': {'Creole English': {'IsOfficial': 'F', 'Percentage': 100.0}, 'Creole French': {'IsOfficial': 'F', 'Percentage': 0.0}}}, 'TTO': {'Capital': 3336, 'Code2': 'TT', 'Continent': 'North America', 'GNP': 6232.0, 'GNPOld': 5867.0, 'GovernmentForm': 'Republic', 'HeadOfState': 'Arthur N. R. Robinson', 'IndepYear': 1962, 'LifeExpectancy': 68.0, 'LocalName': 'Trinidad and Tobago', 'Name': 'Trinidad and Tobago', 'Population': 1295000, 'Region': 'Caribbean', 'SurfaceArea': 5130.0, 'languages': {'Creole English': {'IsOfficial': 'F', 'Percentage': 2.9}, 'English': {'IsOfficial': 'F', 'Percentage': 93.5}, 'Hindi': {'IsOfficial': 'F', 'Percentage': 3.4}}}, 'VIR': {'Capital': 4067, 'Code2': 'VI', 'Continent': 'North America', 'GNP': 0.0, 'GNPOld': 0.0, 'GovernmentForm': 'US Territory', 'HeadOfState': 'George W. Bush', 'IndepYear': 0, 'LifeExpectancy': 78.1, 'LocalName': 'Virgin Islands of the United States', 'Name': 'Virgin Islands, U.S.', 'Population': 93000, 'Region': 'Caribbean', 'SurfaceArea': 347.0, 'languages': {'English': {'IsOfficial': 'T', 'Percentage': 81.7}, 'French': {'IsOfficial': 'F', 'Percentage': 2.5}, 'Spanish': {'IsOfficial': 'F', 'Percentage': 13.3}}}, 'TCA': {'Capital': 3423, 'Code2': 'TC', 'Continent': 'North America', 'GNP': 96.0, 'GNPOld': 0.0, 'GovernmentForm': 'Dependent Territory of the UK', 'HeadOfState': 'Elisabeth II', 'IndepYear': 0, 'LifeExpectancy': 73.3, 'LocalName': 'The Turks and Caicos Islands', 'Name': 'Turks and Caicos Islands', 'Population': 17000, 'Region': 'Caribbean', 'SurfaceArea': 430.0, 'languages': {'English': {'IsOfficial': 'T', 'Percentage': 0.0}}}, 'PRI': {'Capital': 2919, 'Code2': 'PR', 'Continent': 'North America', 'GNP': 34100.0, 'GNPOld': 32100.0, 'GovernmentForm': 'Commonwealth of the US', 'HeadOfState': 'George W. Bush', 'IndepYear': 0, 'LifeExpectancy': 75.6, 'LocalName': 'Puerto Rico', 'Name': 'Puerto Rico', 'Population': 3869000, 'Region': 'Caribbean', 'SurfaceArea': 8875.0, 'languages': {'English': {'IsOfficial': 'F', 'Percentage': 47.4}, 'Spanish': {'IsOfficial': 'T', 'Percentage': 51.3}}}, 'ANT': {'Capital': 33, 'Code2': 'AN', 'Continent': 'North America', 'GNP': 1941.0, 'GNPOld': 0.0, 'GovernmentForm': 'Nonmetropolitan Territory of The Netherlands', 'HeadOfState': 'Beatrix', 'IndepYear': 0, 'LifeExpectancy': 74.7, 'LocalName': 'Nederlandse Antillen', 'Name': 'Netherlands Antilles', 'Population': 217000, 'Region': 'Caribbean', 'SurfaceArea': 800.0, 'languages': {'Dutch': {'IsOfficial': 'T', 'Percentage': 0.0}, 'English': {'IsOfficial': 'F', 'Percentage': 7.8}, 'Papiamento': {'IsOfficial': 'T', 'Percentage': 86.2}}}, 'ATG': {'Capital': 63, 'Code2': 'AG', 'Continent': 'North America', 'GNP': 612.0, 'GNPOld': 584.0, 'GovernmentForm': 'Constitutional Monarchy', 'HeadOfState': 'Elisabeth II', 'IndepYear': 1981, 'LifeExpectancy': 70.5, 'LocalName': 'Antigua and Barbuda', 'Name': 'Antigua and Barbuda', 'Population': 68000, 'Region': 'Caribbean', 'SurfaceArea': 442.0, 'languages': {'Creole English': {'IsOfficial': 'F', 'Percentage': 95.7}, 'English': {'IsOfficial': 'T', 'Percentage': 0.0}}}, 'HND': {'Capital': 933, 'Code2': 'HN', 'Continent': 'North America', 'GNP': 5333.0, 'GNPOld': 4697.0, 'GovernmentForm': 'Republic', 'HeadOfState': 'Carlos Roberto Flores FacussÃ©', 'IndepYear': 1838, 'LifeExpectancy': 69.9, 'LocalName': 'Honduras', 'Name': 'Honduras', 'Population': 6485000, 'Region': 'Central America', 'SurfaceArea': 112088.0, 'languages': {'Creole English': {'IsOfficial': 'F', 'Percentage': 0.2}, 'Garifuna': {'IsOfficial': 'F', 'Percentage': 1.3}, 'Miskito': {'IsOfficial': 'F', 'Percentage': 0.2}, 'Spanish': {'IsOfficial': 'T', 'Percentage': 97.2}}}, 'BHS': {'Capital': 148, 'Code2': 'BS', 'Continent': 'North America', 'GNP': 3527.0, 'GNPOld': 3347.0, 'GovernmentForm': 'Constitutional Monarchy', 'HeadOfState': 'Elisabeth II', 'IndepYear': 1973, 'LifeExpectancy': 71.1, 'LocalName': 'The Bahamas', 'Name': 'Bahamas', 'Population': 307000, 'Region': 'Caribbean', 'SurfaceArea': 13878.0, 'languages': {'Creole English': {'IsOfficial': 'F', 'Percentage': 89.7}, 'Creole French': {'IsOfficial': 'F', 'Percentage': 10.3}}}, 'SLV': {'Capital': 645, 'Code2': 'SV', 'Continent': 'North America', 'GNP': 11863.0, 'GNPOld': 11203.0, 'GovernmentForm': 'Republic', 'HeadOfState': 'Francisco Guillermo Flores PÃ©rez', 'IndepYear': 1841, 'LifeExpectancy': 69.7, 'LocalName': 'El Salvador', 'Name': 'El Salvador', 'Population': 6276000, 'Region': 'Central America', 'SurfaceArea': 21041.0, 'languages': {'Nahua': {'IsOfficial': 'F', 'Percentage': 0.0}, 'Spanish': {'IsOfficial': 'T', 'Percentage': 100.0}}}, 'MEX': {'Capital': 2515, 'Code2': 'MX', 'Continent': 'North America', 'GNP': 414972.0, 'GNPOld': 401461.0, 'GovernmentForm': 'Federal Republic', 'HeadOfState': 'Vicente Fox Quesada', 'IndepYear': 1810, 'LifeExpectancy': 71.5, 'LocalName': 'MÃ©xico', 'Name': 'Mexico', 'Population': 98881000, 'Region': 'Central America', 'SurfaceArea': 1958201.0, 'languages': {'Mixtec': {'IsOfficial': 'F', 'Percentage': 0.6}, 'NÃ¡huatl': {'IsOfficial': 'F', 'Percentage': 1.8}, 'OtomÃ\\xad': {'IsOfficial': 'F', 'Percentage': 0.4}, 'Spanish': {'IsOfficial': 'T', 'Percentage': 92.1}, 'Yucatec': {'IsOfficial': 'F', 'Percentage': 1.1}, 'Zapotec': {'IsOfficial': 'F', 'Percentage': 0.6}}}, 'NIC': {'Capital': 2734, 'Code2': 'NI', 'Continent': 'North America', 'GNP': 1988.0, 'GNPOld': 2023.0, 'GovernmentForm': 'Republic', 'HeadOfState': 'Arnoldo AlemÃ¡n Lacayo', 'IndepYear': 1838, 'LifeExpectancy': 68.7, 'LocalName': 'Nicaragua', 'Name': 'Nicaragua', 'Population': 5074000, 'Region': 'Central America', 'SurfaceArea': 130000.0, 'languages': {'Creole English': {'IsOfficial': 'F', 'Percentage': 0.5}, 'Miskito': {'IsOfficial': 'F', 'Percentage': 1.6}, 'Spanish': {'IsOfficial': 'T', 'Percentage': 97.6}, 'Sumo': {'IsOfficial': 'F', 'Percentage': 0.2}}}, 'AIA': {'Capital': 62, 'Code2': 'AI', 'Continent': 'North America', 'GNP': 63.2, 'GNPOld': 0.0, 'GovernmentForm': 'Dependent Territory of the UK', 'HeadOfState': 'Elisabeth II', 'IndepYear': 0, 'LifeExpectancy': 76.1, 'LocalName': 'Anguilla', 'Name': 'Anguilla', 'Population': 8000, 'Region': 'Caribbean', 'SurfaceArea': 96.0, 'languages': {'English': {'IsOfficial': 'T', 'Percentage': 0.0}}}, 'GRD': {'Capital': 916, 'Code2': 'GD', 'Continent': 'North America', 'GNP': 318.0, 'GNPOld': 0.0, 'GovernmentForm': 'Constitutional Monarchy', 'HeadOfState': 'Elisabeth II', 'IndepYear': 1974, 'LifeExpectancy': 64.5, 'LocalName': 'Grenada', 'Name': 'Grenada', 'Population': 94000, 'Region': 'Caribbean', 'SurfaceArea': 344.0, 'languages': {'Creole English': {'IsOfficial': 'F', 'Percentage': 100.0}}}, 'CRI': {'Capital': 584, 'Code2': 'CR', 'Continent': 'North America', 'GNP': 10226.0, 'GNPOld': 9757.0, 'GovernmentForm': 'Republic', 'HeadOfState': 'Miguel Ã\\x81ngel RodrÃ\\xadguez EcheverrÃ\\xada', 'IndepYear': 1821, 'LifeExpectancy': 75.8, 'LocalName': 'Costa Rica', 'Name': 'Costa Rica', 'Population': 4023000, 'Region': 'Central America', 'SurfaceArea': 51100.0, 'languages': {'Chibcha': {'IsOfficial': 'F', 'Percentage': 0.3}, 'Chinese': {'IsOfficial': 'F', 'Percentage': 0.2}, 'Creole English': {'IsOfficial': 'F', 'Percentage': 2.0}, 'Spanish': {'IsOfficial': 'T', 'Percentage': 97.5}}}, 'DOM': {'Capital': 587, 'Code2': 'DO', 'Continent': 'North America', 'GNP': 15846.0, 'GNPOld': 15076.0, 'GovernmentForm': 'Republic', 'HeadOfState': 'HipÃ³lito MejÃ\\xada DomÃ\\xadnguez', 'IndepYear': 1844, 'LifeExpectancy': 73.2, 'LocalName': 'RepÃºblica Dominicana', 'Name': 'Dominican Republic', 'Population': 8495000, 'Region': 'Caribbean', 'SurfaceArea': 48511.0, 'languages': {'Creole French': {'IsOfficial': 'F', 'Percentage': 2.0}, 'Spanish': {'IsOfficial': 'T', 'Percentage': 98.0}}}, 'MTQ': {'Capital': 2508, 'Code2': 'MQ', 'Continent': 'North America', 'GNP': 2731.0, 'GNPOld': 2559.0, 'GovernmentForm': 'Overseas Department of France', 'HeadOfState': 'Jacques Chirac', 'IndepYear': 0, 'LifeExpectancy': 78.3, 'LocalName': 'Martinique', 'Name': 'Martinique', 'Population': 395000, 'Region': 'Caribbean', 'SurfaceArea': 1102.0, 'languages': {'Creole French': {'IsOfficial': 'F', 'Percentage': 96.6}, 'French': {'IsOfficial': 'T', 'Percentage': 0.0}}}, 'VGB': {'Capital': 537, 'Code2': 'VG', 'Continent': 'North America', 'GNP': 612.0, 'GNPOld': 573.0, 'GovernmentForm': 'Dependent Territory of the UK', 'HeadOfState': 'Elisabeth II', 'IndepYear': 0, 'LifeExpectancy': 75.4, 'LocalName': 'British Virgin Islands', 'Name': 'Virgin Islands, British', 'Population': 21000, 'Region': 'Caribbean', 'SurfaceArea': 151.0, 'languages': {'English': {'IsOfficial': 'T', 'Percentage': 0.0}}}, 'GRL': {'Capital': 917, 'Code2': 'GL', 'Continent': 'North America', 'GNP': 0.0, 'GNPOld': 0.0, 'GovernmentForm': 'Part of Denmark', 'HeadOfState': 'Margrethe II', 'IndepYear': 0, 'LifeExpectancy': 68.1, 'LocalName': 'Kalaallit Nunaat/GrÃ¸nland', 'Name': 'Greenland', 'Population': 56000, 'Region': 'North America', 'SurfaceArea': 2166090.0, 'languages': {'Danish': {'IsOfficial': 'T', 'Percentage': 12.5}, 'Greenlandic': {'IsOfficial': 'T', 'Percentage': 87.5}}}, 'GTM': {'Capital': 922, 'Code2': 'GT', 'Continent': 'North America', 'GNP': 19008.0, 'GNPOld': 17797.0, 'GovernmentForm': 'Republic', 'HeadOfState': 'Alfonso Portillo Cabrera', 'IndepYear': 1821, 'LifeExpectancy': 66.2, 'LocalName': 'Guatemala', 'Name': 'Guatemala', 'Population': 11385000, 'Region': 'Central America', 'SurfaceArea': 108889.0, 'languages': {'Cakchiquel': {'IsOfficial': 'F', 'Percentage': 8.9}, 'KekchÃ\\xad': {'IsOfficial': 'F', 'Percentage': 4.9}, 'Mam': {'IsOfficial': 'F', 'Percentage': 2.7}, 'QuichÃ©': {'IsOfficial': 'F', 'Percentage': 10.1}, 'Spanish': {'IsOfficial': 'T', 'Percentage': 64.7}}}, 'BLZ': {'Capital': 185, 'Code2': 'BZ', 'Continent': 'North America', 'GNP': 630.0, 'GNPOld': 616.0, 'GovernmentForm': 'Constitutional Monarchy', 'HeadOfState': 'Elisabeth II', 'IndepYear': 1981, 'LifeExpectancy': 70.9, 'LocalName': 'Belize', 'Name': 'Belize', 'Population': 241000, 'Region': 'Central America', 'SurfaceArea': 22696.0, 'languages': {'English': {'IsOfficial': 'T', 'Percentage': 50.8}, 'Garifuna': {'IsOfficial': 'F', 'Percentage': 6.8}, 'Maya Languages': {'IsOfficial': 'F', 'Percentage': 9.6}, 'Spanish': {'IsOfficial': 'F', 'Percentage': 31.6}}}, 'BRB': {'Capital': 174, 'Code2': 'BB', 'Continent': 'North America', 'GNP': 2223.0, 'GNPOld': 2186.0, 'GovernmentForm': 'Constitutional Monarchy', 'HeadOfState': 'Elisabeth II', 'IndepYear': 1966, 'LifeExpectancy': 73.0, 'LocalName': 'Barbados', 'Name': 'Barbados', 'Population': 270000, 'Region': 'Caribbean', 'SurfaceArea': 430.0, 'languages': {'Bajan': {'IsOfficial': 'F', 'Percentage': 95.1}, 'English': {'IsOfficial': 'T', 'Percentage': 0.0}}}, 'CUB': {'Capital': 2413, 'Code2': 'CU', 'Continent': 'North America', 'GNP': 17843.0, 'GNPOld': 18862.0, 'GovernmentForm': 'Socialistic Republic', 'HeadOfState': 'Fidel Castro Ruz', 'IndepYear': 1902, 'LifeExpectancy': 76.2, 'LocalName': 'Cuba', 'Name': 'Cuba', 'Population': 11201000, 'Region': 'Caribbean', 'SurfaceArea': 110861.0, 'languages': {'Spanish': {'IsOfficial': 'T', 'Percentage': 100.0}}}, 'VCT': {'Capital': 3066, 'Code2': 'VC', 'Continent': 'North America', 'GNP': 285.0, 'GNPOld': 0.0, 'GovernmentForm': 'Constitutional Monarchy', 'HeadOfState': 'Elisabeth II', 'IndepYear': 1979, 'LifeExpectancy': 72.3, 'LocalName': 'Saint Vincent and the Grenadines', 'Name': 'Saint Vincent and the Grenadines', 'Population': 114000, 'Region': 'Caribbean', 'SurfaceArea': 388.0, 'languages': {'Creole English': {'IsOfficial': 'F', 'Percentage': 99.1}, 'English': {'IsOfficial': 'T', 'Percentage': 0.0}}}, 'LCA': {'Capital': 3065, 'Code2': 'LC', 'Continent': 'North America', 'GNP': 571.0, 'GNPOld': 0.0, 'GovernmentForm': 'Constitutional Monarchy', 'HeadOfState': 'Elisabeth II', 'IndepYear': 1979, 'LifeExpectancy': 72.3, 'LocalName': 'Saint Lucia', 'Name': 'Saint Lucia', 'Population': 154000, 'Region': 'Caribbean', 'SurfaceArea': 622.0, 'languages': {'Creole French': {'IsOfficial': 'F', 'Percentage': 80.0}, 'English': {'IsOfficial': 'T', 'Percentage': 20.0}}}, 'JAM': {'Capital': 1530, 'Code2': 'JM', 'Continent': 'North America', 'GNP': 6871.0, 'GNPOld': 6722.0, 'GovernmentForm': 'Constitutional Monarchy', 'HeadOfState': 'Elisabeth II', 'IndepYear': 1962, 'LifeExpectancy': 75.2, 'LocalName': 'Jamaica', 'Name': 'Jamaica', 'Population': 2583000, 'Region': 'Caribbean', 'SurfaceArea': 10990.0, 'languages': {'Creole English': {'IsOfficial': 'F', 'Percentage': 94.2}, 'Hindi': {'IsOfficial': 'F', 'Percentage': 1.9}}}, 'KNA': {'Capital': 3064, 'Code2': 'KN', 'Continent': 'North America', 'GNP': 299.0, 'GNPOld': 0.0, 'GovernmentForm': 'Constitutional Monarchy', 'HeadOfState': 'Elisabeth II', 'IndepYear': 1983, 'LifeExpectancy': 70.7, 'LocalName': 'Saint Kitts and Nevis', 'Name': 'Saint Kitts and Nevis', 'Population': 38000, 'Region': 'Caribbean', 'SurfaceArea': 261.0, 'languages': {'Creole English': {'IsOfficial': 'F', 'Percentage': 100.0}, 'English': {'IsOfficial': 'T', 'Percentage': 0.0}}}, 'GLP': {'Capital': 919, 'Code2': 'GP', 'Continent': 'North America', 'GNP': 3501.0, 'GNPOld': 0.0, 'GovernmentForm': 'Overseas Department of France', 'HeadOfState': 'Jacques Chirac', 'IndepYear': 0, 'LifeExpectancy': 77.0, 'LocalName': 'Guadeloupe', 'Name': 'Guadeloupe', 'Population': 456000, 'Region': 'Caribbean', 'SurfaceArea': 1705.0, 'languages': {'Creole French': {'IsOfficial': 'F', 'Percentage': 95.0}, 'French': {'IsOfficial': 'T', 'Percentage': 0.0}}}, 'ABW': {'Capital': 129, 'Code2': 'AW', 'Continent': 'North America', 'GNP': 828.0, 'GNPOld': 793.0, 'GovernmentForm': 'Nonmetropolitan Territory of The Netherlands', 'HeadOfState': 'Beatrix', 'IndepYear': 0, 'LifeExpectancy': 78.4, 'LocalName': 'Aruba', 'Name': 'Aruba', 'Population': 103000, 'Region': 'Caribbean', 'SurfaceArea': 193.0, 'languages': {'Dutch': {'IsOfficial': 'T', 'Percentage': 5.3}, 'English': {'IsOfficial': 'F', 'Percentage': 9.5}, 'Papiamento': {'IsOfficial': 'F', 'Percentage': 76.7}, 'Spanish': {'IsOfficial': 'F', 'Percentage': 7.4}}}, 'CAN': {'Capital': 1822, 'Code2': 'CA', 'Continent': 'North America', 'GNP': 598862.0, 'GNPOld': 625626.0, 'GovernmentForm': 'Constitutional Monarchy, Federation', 'HeadOfState': 'Elisabeth II', 'IndepYear': 1867, 'LifeExpectancy': 79.4, 'LocalName': 'Canada', 'Name': 'Canada', 'Population': 31147000, 'Region': 'North America', 'SurfaceArea': 9970610.0, 'languages': {'Chinese': {'IsOfficial': 'F', 'Percentage': 2.5}, 'Dutch': {'IsOfficial': 'F', 'Percentage': 0.5}, 'English': {'IsOfficial': 'T', 'Percentage': 60.4}, 'Eskimo Languages': {'IsOfficial': 'F', 'Percentage': 0.1}, 'French': {'IsOfficial': 'T', 'Percentage': 23.4}, 'German': {'IsOfficial': 'F', 'Percentage': 1.6}, 'Italian': {'IsOfficial': 'F', 'Percentage': 1.7}, 'Polish': {'IsOfficial': 'F', 'Percentage': 0.7}, 'Portuguese': {'IsOfficial': 'F', 'Percentage': 0.7}, 'Punjabi': {'IsOfficial': 'F', 'Percentage': 0.7}, 'Spanish': {'IsOfficial': 'F', 'Percentage': 0.7}, 'Ukrainian': {'IsOfficial': 'F', 'Percentage': 0.6}}}, 'PAN': {'Capital': 2882, 'Code2': 'PA', 'Continent': 'North America', 'GNP': 9131.0, 'GNPOld': 8700.0, 'GovernmentForm': 'Republic', 'HeadOfState': 'Mireya Elisa Moscoso RodrÃ\\xadguez', 'IndepYear': 1903, 'LifeExpectancy': 75.5, 'LocalName': 'PanamÃ¡', 'Name': 'Panama', 'Population': 2856000, 'Region': 'Central America', 'SurfaceArea': 75517.0, 'languages': {'Arabic': {'IsOfficial': 'F', 'Percentage': 0.6}, 'Creole English': {'IsOfficial': 'F', 'Percentage': 14.0}, 'Cuna': {'IsOfficial': 'F', 'Percentage': 2.0}, 'Embera': {'IsOfficial': 'F', 'Percentage': 0.6}, 'GuaymÃ\\xad': {'IsOfficial': 'F', 'Percentage': 5.3}, 'Spanish': {'IsOfficial': 'T', 'Percentage': 76.8}}}}\n"
     ]
    }
   ],
   "source": [
    "print(test)"
   ]
  },
  {
   "cell_type": "code",
   "execution_count": null,
   "metadata": {
    "collapsed": true
   },
   "outputs": [],
   "source": [
    "\n",
    "if __name__ == \"__main__\":\n",
    "    url = \"https://inf551-52230.firebaseio.com/world/\"\n",
    "\n",
    "\n",
    "    country_nested = url+\"country_nested.json\"\n",
    "\n",
    "    \n",
    "    ### get country for continet equal to north america \n",
    "    \n",
    "    q1 = country_nested+'?orderBy=\"Continent\"&equalTo=' + '\"' + sys.argv[1] + '\"'\n",
    "    \n",
    "    \n",
    " #https://inf551-52230.firebaseio.com/world/country.json?orderBy=\"Continent\"&equalTo=\"North America\"\n",
    "    response = requests.get(q1)\n",
    "    country_continent = response.json()\n",
    "    \n",
    "    from collections import defaultdict\n",
    "\n",
    "    output = defaultdict(list)\n",
    "    for i in country_continent:\n",
    "        for language in country_continent[i][\"languages\"]:\n",
    "            if country_continent[i][\"languages\"][language][\"IsOfficial\"] == \"T\":\n",
    "                output[country_continent[i][\"Name\"]].append(language)\n",
    "    \n",
    "    \n",
    "    \n",
    "    print(output)"
   ]
  }
 ],
 "metadata": {
  "kernelspec": {
   "display_name": "Python 3.7.6 64-bit",
   "language": "python",
   "name": "python37664bit65f4c716043e4f238f23dd0a361d4646"
  },
  "language_info": {
   "codemirror_mode": {
    "name": "ipython",
    "version": 3
   },
   "file_extension": ".py",
   "mimetype": "text/x-python",
   "name": "python",
   "nbconvert_exporter": "python",
   "pygments_lexer": "ipython3",
   "version": "3.7.6"
  }
 },
 "nbformat": 4,
 "nbformat_minor": 2
}
