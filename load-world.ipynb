{
 "cells": [
  {
   "cell_type": "code",
   "execution_count": 14,
   "metadata": {
    "collapsed": true
   },
   "outputs": [],
   "source": [
    "import requests\n",
    "import json\n",
    "import re \n",
    "import pandas as pd \n",
    "import sys\n",
    "import numpy as np"
   ]
  },
  {
   "cell_type": "code",
   "execution_count": 26,
   "metadata": {
    "collapsed": true
   },
   "outputs": [],
   "source": [
    "def uploadToFirebase(url,json_path, data):\n",
    "\n",
    "\tresponse = requests.put(url+json_path, json = data)\n",
    "\tif response.status_code == 200:\n",
    "\t\tprint(\"Successfully Uploaded to Firebase\")\n",
    "\telse:\n",
    "\t\tprint(\"Upload Failure\")\n",
    "        \n",
    "def reformat(c, data):\n",
    "    requiredDict = {}\n",
    "    \n",
    "    for items in data:\n",
    "        first_item = items[c]\n",
    "        requiredDict[first_item] ={}\n",
    "        del items[c]\n",
    "        requiredDict[first_item] = items\n",
    "    \n",
    "    return requiredDict\n",
    "\n",
    "def file_load(f):\n",
    "    with open(f,\"r\") as file:\n",
    "        data = json.load(file)\n",
    "    return data "
   ]
  },
  {
   "cell_type": "code",
   "execution_count": 3,
   "metadata": {
    "collapsed": true
   },
   "outputs": [],
   "source": [
    "from collections import defaultdict"
   ]
  },
  {
   "cell_type": "code",
   "execution_count": 4,
   "metadata": {
    "collapsed": true
   },
   "outputs": [],
   "source": [
    "country = file_load(\"country.json\")\n",
    " \n",
    "    \n",
    "city = file_load(\"city.json\")\n",
    "     \n",
    "language = file_load(\"countrylanguage.json\")\n",
    "    \n",
    " ## to clean to invalide char in language \n",
    "for i in language:\n",
    "    if i[\"Language\"] ==\"[South]Mande\":\n",
    "        i[\"Language\"] = 'SouthMande'\n",
    "        break\n",
    "        \n",
    "## reformat the json file \n",
    "required_country = reformat(\"Code\",country) ## country \n",
    "    \n",
    "    ## city \n",
    "required_city = reformat(\"ID\",city)\n",
    "    "
   ]
  },
  {
   "cell_type": "code",
   "execution_count": 8,
   "metadata": {},
   "outputs": [
    {
     "name": "stdout",
     "output_type": "stream",
     "text": [
      "SouthMande\n"
     ]
    }
   ],
   "source": [
    "for i in language:\n",
    "    if i[\"Language\"] == \"SouthMande\":\n",
    "        print(i[\"Language\"])"
   ]
  },
  {
   "cell_type": "code",
   "execution_count": 11,
   "metadata": {},
   "outputs": [],
   "source": [
    "#required_country\n"
   ]
  },
  {
   "cell_type": "code",
   "execution_count": 12,
   "metadata": {},
   "outputs": [],
   "source": [
    "#required_city"
   ]
  },
  {
   "cell_type": "code",
   "execution_count": 16,
   "metadata": {
    "collapsed": true
   },
   "outputs": [],
   "source": [
    "   ## reformat the language \n",
    "import copy\n",
    "    \n",
    "    ### create a new dictionary \n",
    "required_language = defaultdict(dict)\n",
    "for i in language:\n",
    "    item = copy.deepcopy(i)\n",
    "    del item[\"CountryCode\"]\n",
    "    del item[\"Language\"]\n",
    "    required_language[i[\"CountryCode\"]][i[\"Language\"]] = item"
   ]
  },
  {
   "cell_type": "code",
   "execution_count": 24,
   "metadata": {},
   "outputs": [],
   "source": [
    "#required_language"
   ]
  },
  {
   "cell_type": "code",
   "execution_count": null,
   "metadata": {
    "collapsed": true
   },
   "outputs": [],
   "source": []
  },
  {
   "cell_type": "code",
   "execution_count": 21,
   "metadata": {},
   "outputs": [],
   "source": [
    "### to add language\n",
    "add_language = defaultdict(dict)\n",
    "for i in required_language:\n",
    "    add_language[i][\"languages\"] = required_language[i]\n",
    "        \n",
    "    \n",
    "### comnine two json files into one based on one common key \n",
    "nested_country = add_language\n",
    "for k in add_language:\n",
    "    nested_country[k].update(required_country.get(k, {}))"
   ]
  },
  {
   "cell_type": "code",
   "execution_count": 23,
   "metadata": {},
   "outputs": [],
   "source": [
    "#nested_country"
   ]
  },
  {
   "cell_type": "code",
   "execution_count": null,
   "metadata": {
    "collapsed": true
   },
   "outputs": [],
   "source": [
    "url = \"https://inf551-52230.firebaseio.com/world/\"\n"
   ]
  },
  {
   "cell_type": "code",
   "execution_count": 27,
   "metadata": {},
   "outputs": [
    {
     "name": "stdout",
     "output_type": "stream",
     "text": [
      "Successfully Uploaded to Firebase\n",
      "Successfully Uploaded to Firebase\n",
      "Successfully Uploaded to Firebase\n",
      "Successfully Uploaded to Firebase\n"
     ]
    }
   ],
   "source": [
    "url = \"https://inf551-52230.firebaseio.com/world/\"\n",
    "    \n",
    "    ## put country dictionary into firebase \n",
    "uploadToFirebase(url,\"country.json\",required_country)\n",
    "    \n",
    "    ##put city into firebase \n",
    "    \n",
    "uploadToFirebase(url,\"city.json\",required_city)\n",
    "    \n",
    "    ### put language into firebase \n",
    "uploadToFirebase(url,\"countrylanguage.json\", required_language)\n",
    "    \n",
    "\n",
    "### put country_nested into firebase \n",
    "uploadToFirebase(url,\"country_nested.json\",nested_country)"
   ]
  },
  {
   "cell_type": "code",
   "execution_count": null,
   "metadata": {
    "collapsed": true
   },
   "outputs": [],
   "source": [
    "def uploadToFirebase(url,json_path, data):\n",
    "\n",
    "\tresponse = requests.put(url+json_path, json = data)\n",
    "\tif response.status_code == 200:\n",
    "\t\tprint(\"Successfully Uploaded to Firebase\")\n",
    "\telse:\n",
    "\t\tprint(\"Upload Failure\")\n",
    "        \n",
    "\n",
    "def file_load(f):\n",
    "    with open(f,\"r\") as file:\n",
    "        data = json.load(file)\n",
    "    return data \n",
    "\n",
    "def reformat(c, data):\n",
    "    requiredDict = {}\n",
    "    \n",
    "    for items in data:\n",
    "        first_item = items[c]\n",
    "        requiredDict[first_item] ={}\n",
    "        del items[c]\n",
    "        requiredDict[first_item] = items\n",
    "    \n",
    "    return requiredDict\n",
    "\n",
    "\n",
    "        \n",
    "        \n",
    "if __name__ == \"__main__\":\n",
    "    \n",
    "    country = file_load(sys.argv[1])\n",
    "    country_ori = country ## keep copy \n",
    "    \n",
    "    city = file_load(sys.argv[2])\n",
    "    city_ori = city \n",
    "    \n",
    "    language = file_load(sys.argv[3])\n",
    "    language_ori = language\n",
    "    \n",
    "    ## to clean to invalide char \n",
    "    for i in language:\n",
    "        if i[\"Language\"] ==\"[South]Mande\":\n",
    "            i[\"Language\"] = 'SouthMande'\n",
    "            break\n",
    "    \n",
    "    ## reformat the json file \n",
    "    required_country = reformat(\"Code\",country) ## country \n",
    "    \n",
    "    ## city \n",
    "    required_city = reformat(\"ID\",city)\n",
    "    \n",
    "    ## reformat the language \n",
    "    import copy\n",
    "    \n",
    "    ### create a new dictionary \n",
    "    required_language = defaultdict(dict)\n",
    "    for i in language:\n",
    "        item = copy.deepcopy(i)\n",
    "        del item[\"CountryCode\"]\n",
    "        del item[\"Language\"]\n",
    "        required_language[i[\"CountryCode\"]][i[\"Language\"]] = item\n",
    "    \n",
    "    \n",
    "    url = \"https://inf551-52230.firebaseio.com/world/\"\n",
    "    \n",
    "    ## put country dictionary into firebase \n",
    "    uploadToFirebase(url,sys.argv[1],required_country)\n",
    "    \n",
    "    ##put city into firebase \n",
    "    \n",
    "    uploadToFirebase(url,sys.argv[2],required_city)\n",
    "    \n",
    "    ### put language into firebase \n",
    "    uploadToFirebase(url,sys.argv[3],required_language)\n",
    "    \n",
    "    \n",
    "    \n",
    "    \n",
    "    ### to add language\n",
    "    add_language = defaultdict(dict)\n",
    "    for i in required_language:\n",
    "        add_language[i][\"languages\"] = required_language[i]\n",
    "        \n",
    "    \n",
    "    ### comnine two json files into one based on one common key \n",
    "    nested_country = add_language\n",
    "    for k in add_language:\n",
    "        nested_country[k].update(required_country.get(k, {}))\n",
    "        \n",
    "        \n",
    "    ### put country_nested into firebase \n",
    "    uploadToFirebase(url,\"country_nested.json\",nested_country)\n",
    "    \n",
    "    \n",
    "    \n",
    "    \n",
    "    \n",
    "    \n",
    "    \n",
    "    \n",
    "    \n",
    "    \n",
    "    \n",
    "    \n",
    "    \n",
    "    \n",
    "\n",
    " \n",
    "\n",
    "\n",
    "    \n",
    "    \n",
    "    \n",
    "    \n",
    "        \n",
    "    "
   ]
  },
  {
   "cell_type": "code",
   "execution_count": 51,
   "metadata": {
    "collapsed": true
   },
   "outputs": [],
   "source": []
  }
 ],
 "metadata": {
  "kernelspec": {
   "display_name": "Python 3.7.6 64-bit",
   "language": "python",
   "name": "python37664bit65f4c716043e4f238f23dd0a361d4646"
  },
  "language_info": {
   "codemirror_mode": {
    "name": "ipython",
    "version": 3
   },
   "file_extension": ".py",
   "mimetype": "text/x-python",
   "name": "python",
   "nbconvert_exporter": "python",
   "pygments_lexer": "ipython3",
   "version": "3.7.6"
  }
 },
 "nbformat": 4,
 "nbformat_minor": 2
}
