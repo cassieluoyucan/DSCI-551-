{
 "cells": [
  {
   "cell_type": "code",
   "execution_count": 1,
   "metadata": {
    "collapsed": true
   },
   "outputs": [],
   "source": [
    "import requests\n",
    "import json \n",
    "import sys"
   ]
  },
  {
   "cell_type": "code",
   "execution_count": 2,
   "metadata": {
    "collapsed": true
   },
   "outputs": [],
   "source": [
    "url = \"https://inf551-52230.firebaseio.com/world/\""
   ]
  },
  {
   "cell_type": "code",
   "execution_count": 3,
   "metadata": {
    "collapsed": true
   },
   "outputs": [],
   "source": [
    "city_url = url +\"city.json\"\n",
    "\n",
    "countrylanguage = url+\"countrylanguage.json\"\n",
    "\n",
    "country_nested = url+\"country_nested.json\"\n",
    "country_url = url +\"country.json\"\n"
   ]
  },
  {
   "cell_type": "code",
   "execution_count": 4,
   "metadata": {
    "collapsed": true
   },
   "outputs": [],
   "source": [
    "### get country for continet equal to north america \n",
    "\n",
    "q1 = country_url+'?orderBy=\"Continent\"&equalTo=\"North America\"'"
   ]
  },
  {
   "cell_type": "code",
   "execution_count": 5,
   "metadata": {
    "collapsed": true
   },
   "outputs": [],
   "source": [
    "response = requests.get(q1)"
   ]
  },
  {
   "cell_type": "code",
   "execution_count": 6,
   "metadata": {},
   "outputs": [
    {
     "name": "stdout",
     "output_type": "stream",
     "text": [
      "<Response [200]>\n"
     ]
    }
   ],
   "source": [
    "print(response)"
   ]
  },
  {
   "cell_type": "code",
   "execution_count": 7,
   "metadata": {
    "collapsed": true
   },
   "outputs": [],
   "source": [
    "#https://inf551-52230.firebaseio.com/world/country.json?orderBy=\"Continent\"&equalTo=\"North America\"\n",
    "\n",
    "country_continent = response.json()"
   ]
  },
  {
   "cell_type": "code",
   "execution_count": 8,
   "metadata": {},
   "outputs": [
    {
     "name": "stdout",
     "output_type": "stream",
     "text": [
      "37\n"
     ]
    }
   ],
   "source": [
    "print(len(country_continent))"
   ]
  },
  {
   "cell_type": "code",
   "execution_count": 9,
   "metadata": {
    "collapsed": true
   },
   "outputs": [],
   "source": [
    "name_of_country = [country_continent[i][\"Name\"] for i in country_continent]"
   ]
  },
  {
   "cell_type": "code",
   "execution_count": 10,
   "metadata": {
    "collapsed": true
   },
   "outputs": [],
   "source": [
    "### to get capital number from country_continent\n",
    "\n",
    "capital_number = [ country_continent[i][\"Capital\"] for i in country_continent]\n"
   ]
  },
  {
   "cell_type": "code",
   "execution_count": 11,
   "metadata": {},
   "outputs": [
    {
     "name": "stdout",
     "output_type": "stream",
     "text": [
      "[553, 3067, 191, 3813, 2697, 929, 586, 3336, 4067, 3423, 2919, 33, 63, 933, 148, 645, 2515, 2734, 62, 916, 584, 587, 2508, 537, 917, 922, 185, 174, 2413, 3066, 3065, 1530, 3064, 919, 129, 1822, 2882]\n"
     ]
    }
   ],
   "source": [
    "print(capital_number)"
   ]
  },
  {
   "cell_type": "code",
   "execution_count": 12,
   "metadata": {
    "collapsed": true
   },
   "outputs": [],
   "source": [
    "### retreieve data from city node \n",
    "\n",
    "city_name = []\n",
    "for i in capital_number:\n",
    "    query = city_url+'?orderBy=\"$key\"&equalTo=' +'\"'+str(i)+'\"'\n",
    "    single_city = requests.get(query).json()\n",
    "    for k,v in single_city.items():\n",
    "        city_name.append(v[\"Name\"])\n",
    "    "
   ]
  },
  {
   "cell_type": "code",
   "execution_count": 13,
   "metadata": {},
   "outputs": [
    {
     "name": "stdout",
     "output_type": "stream",
     "text": [
      "['George Town', 'Saint-Pierre', 'Hamilton', 'Washington', 'Plymouth', 'Port-au-Prince', 'Roseau', 'Port-of-Spain', 'Charlotte Amalie', 'Cockburn Town', 'San Juan', 'Willemstad', 'Saint JohnÂ´s', 'Tegucigalpa', 'Nassau', 'San Salvador', 'Ciudad de MÃ©xico', 'Managua', 'The Valley', 'Saint GeorgeÂ´s', 'San JosÃ©', 'Santo Domingo de GuzmÃ¡n', 'Fort-de-France', 'Road Town', 'Nuuk', 'Ciudad de Guatemala', 'Belmopan', 'Bridgetown', 'La Habana', 'Kingstown', 'Castries', 'Kingston', 'Basseterre', 'Basse-Terre', 'Oranjestad', 'Ottawa', 'Ciudad de PanamÃ¡']\n"
     ]
    }
   ],
   "source": [
    "print(city_name)"
   ]
  },
  {
   "cell_type": "code",
   "execution_count": 14,
   "metadata": {},
   "outputs": [
    {
     "name": "stdout",
     "output_type": "stream",
     "text": [
      "37\n"
     ]
    }
   ],
   "source": [
    "print(len(city_name))"
   ]
  },
  {
   "cell_type": "code",
   "execution_count": 15,
   "metadata": {},
   "outputs": [
    {
     "name": "stdout",
     "output_type": "stream",
     "text": [
      "{'Cayman Islands': 'George Town', 'Saint Pierre and Miquelon': 'Saint-Pierre', 'Bermuda': 'Hamilton', 'United States': 'Washington', 'Montserrat': 'Plymouth', 'Haiti': 'Port-au-Prince', 'Dominica': 'Roseau', 'Trinidad and Tobago': 'Port-of-Spain', 'Virgin Islands, U.S.': 'Charlotte Amalie', 'Turks and Caicos Islands': 'Cockburn Town', 'Puerto Rico': 'San Juan', 'Netherlands Antilles': 'Willemstad', 'Antigua and Barbuda': 'Saint JohnÂ´s', 'Honduras': 'Tegucigalpa', 'Bahamas': 'Nassau', 'El Salvador': 'San Salvador', 'Mexico': 'Ciudad de MÃ©xico', 'Nicaragua': 'Managua', 'Anguilla': 'The Valley', 'Grenada': 'Saint GeorgeÂ´s', 'Costa Rica': 'San JosÃ©', 'Dominican Republic': 'Santo Domingo de GuzmÃ¡n', 'Martinique': 'Fort-de-France', 'Virgin Islands, British': 'Road Town', 'Greenland': 'Nuuk', 'Guatemala': 'Ciudad de Guatemala', 'Belize': 'Belmopan', 'Barbados': 'Bridgetown', 'Cuba': 'La Habana', 'Saint Vincent and the Grenadines': 'Kingstown', 'Saint Lucia': 'Castries', 'Jamaica': 'Kingston', 'Saint Kitts and Nevis': 'Basseterre', 'Guadeloupe': 'Basse-Terre', 'Aruba': 'Oranjestad', 'Canada': 'Ottawa', 'Panama': 'Ciudad de PanamÃ¡'}\n"
     ]
    }
   ],
   "source": [
    "### combine country_name and capital name \n",
    "\n",
    "result = dict(zip(name_of_country, city_name))\n",
    "print(result)\n",
    "\n"
   ]
  },
  {
   "cell_type": "code",
   "execution_count": null,
   "metadata": {
    "collapsed": true
   },
   "outputs": [],
   "source": [
    "if __name__ == \"__main__\":\n",
    "    \n",
    "    url = \"https://inf551-52230.firebaseio.com/world/\"\n",
    "    city_url = url +\"city.json\"\n",
    "    countrylanguage = url+\"countrylanguage.json\"\n",
    "    country_nested = url+\"country_nested.json\"\n",
    "    country_url = url +\"country.json\"\n",
    "    \n",
    "    ### get country for continet equal to north america \n",
    "    q1 = country_url+'?orderBy=\"Continent\"&equalTo='  + '\"' + sys.argv[1] + '\"'\n",
    "\n",
    "    response = requests.get(q1)\n",
    "    \n",
    "    #https://inf551-52230.firebaseio.com/world/country.json?orderBy=\"Continent\"&equalTo=\"North America\"\n",
    "    \n",
    "    country_continent = response.json()\n",
    "    \n",
    "    name_of_country = [country_continent[i][\"Name\"] for i in country_continent]\n",
    "    \n",
    "    ### to get capital number from country_continent\n",
    "    \n",
    "    capital_number = [ country_continent[i][\"Capital\"] for i in country_continent]\n",
    "    \n",
    "    ### retreieve data from city node \n",
    "    \n",
    "    city_name = []\n",
    "    for i in capital_number:\n",
    "        query = city_url+'?orderBy=\"$key\"&equalTo=' +'\"'+str(i)+'\"'\n",
    "        single_city = requests.get(query).json()\n",
    "        for k,v in single_city.items():\n",
    "            city_name.append(v[\"Name\"])\n",
    "            \n",
    "    ### combine country_name and capital name \n",
    "    result = dict(zip(name_of_country, city_name))\n",
    "    \n",
    "    print(result)\n",
    "    \n",
    "    "
   ]
  }
 ],
 "metadata": {
  "kernelspec": {
   "display_name": "Python 3.7.6 64-bit",
   "language": "python",
   "name": "python37664bit65f4c716043e4f238f23dd0a361d4646"
  },
  "language_info": {
   "codemirror_mode": {
    "name": "ipython",
    "version": 3
   },
   "file_extension": ".py",
   "mimetype": "text/x-python",
   "name": "python",
   "nbconvert_exporter": "python",
   "pygments_lexer": "ipython3",
   "version": "3.7.6"
  }
 },
 "nbformat": 4,
 "nbformat_minor": 2
}
