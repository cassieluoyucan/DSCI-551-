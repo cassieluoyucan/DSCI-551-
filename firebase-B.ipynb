{
 "cells": [
  {
   "cell_type": "code",
   "execution_count": 1,
   "metadata": {
    "collapsed": true
   },
   "outputs": [],
   "source": [
    "import requests\n",
    "import json \n",
    "import sys"
   ]
  },
  {
   "cell_type": "code",
   "execution_count": 10,
   "metadata": {
    "collapsed": true
   },
   "outputs": [],
   "source": [
    "url = \"https://inf551-52230.firebaseio.com/world/\"\n",
    "countrylanguage = url+\"countrylanguage.json\"\n",
    "country_url = url +\"country.json\"\n",
    "    \n",
    "### get country for continet equal to north america \n",
    "    \n",
    "q1 = country_url+'?orderBy=\"Continent\"&equalTo=' + '\"North America\"'\n",
    "    \n",
    "    \n",
    "#https://inf551-52230.firebaseio.com/world/country.json?orderBy=\"Continent\"&equalTo=\"North America\"\n",
    "response = requests.get(q1)\n",
    "country_continent = response.json()\n",
    "    \n",
    "## get the name from country whose Continent = 'North America'\n",
    "name_of_country = [country_continent[i][\"Name\"] for i in country_continent]"
   ]
  },
  {
   "cell_type": "code",
   "execution_count": 32,
   "metadata": {
    "collapsed": true
   },
   "outputs": [],
   "source": [
    "name_dict = {}\n",
    "for code, value in country_continent.items():\n",
    "    name_dict[code] = country_continent[code][\"Name\"]\n",
    "    \n",
    "    "
   ]
  },
  {
   "cell_type": "code",
   "execution_count": 33,
   "metadata": {},
   "outputs": [
    {
     "name": "stdout",
     "output_type": "stream",
     "text": [
      "{'CYM': 'Cayman Islands', 'SPM': 'Saint Pierre and Miquelon', 'BMU': 'Bermuda', 'USA': 'United States', 'MSR': 'Montserrat', 'HTI': 'Haiti', 'DMA': 'Dominica', 'TTO': 'Trinidad and Tobago', 'VIR': 'Virgin Islands, U.S.', 'TCA': 'Turks and Caicos Islands', 'PRI': 'Puerto Rico', 'ANT': 'Netherlands Antilles', 'ATG': 'Antigua and Barbuda', 'HND': 'Honduras', 'BHS': 'Bahamas', 'SLV': 'El Salvador', 'MEX': 'Mexico', 'NIC': 'Nicaragua', 'AIA': 'Anguilla', 'GRD': 'Grenada', 'CRI': 'Costa Rica', 'DOM': 'Dominican Republic', 'MTQ': 'Martinique', 'VGB': 'Virgin Islands, British', 'GRL': 'Greenland', 'GTM': 'Guatemala', 'BLZ': 'Belize', 'BRB': 'Barbados', 'CUB': 'Cuba', 'VCT': 'Saint Vincent and the Grenadines', 'LCA': 'Saint Lucia', 'JAM': 'Jamaica', 'KNA': 'Saint Kitts and Nevis', 'GLP': 'Guadeloupe', 'ABW': 'Aruba', 'CAN': 'Canada', 'PAN': 'Panama'}\n"
     ]
    }
   ],
   "source": [
    "print(name_dict)"
   ]
  },
  {
   "cell_type": "code",
   "execution_count": 34,
   "metadata": {
    "collapsed": true
   },
   "outputs": [],
   "source": [
    "### get the country code from country node \n",
    "\n",
    "country_code = [ k for k,v in name_dict.items()]"
   ]
  },
  {
   "cell_type": "code",
   "execution_count": 35,
   "metadata": {},
   "outputs": [
    {
     "name": "stdout",
     "output_type": "stream",
     "text": [
      "['CYM', 'SPM', 'BMU', 'USA', 'MSR', 'HTI', 'DMA', 'TTO', 'VIR', 'TCA', 'PRI', 'ANT', 'ATG', 'HND', 'BHS', 'SLV', 'MEX', 'NIC', 'AIA', 'GRD', 'CRI', 'DOM', 'MTQ', 'VGB', 'GRL', 'GTM', 'BLZ', 'BRB', 'CUB', 'VCT', 'LCA', 'JAM', 'KNA', 'GLP', 'ABW', 'CAN', 'PAN']\n"
     ]
    }
   ],
   "source": [
    "print(country_code)"
   ]
  },
  {
   "cell_type": "code",
   "execution_count": 22,
   "metadata": {
    "collapsed": true
   },
   "outputs": [],
   "source": [
    "query = countrylanguage+'?orderBy=\"$key\"&equalTo=' + '\"' + \"ABW\" + '\"'\n",
    "\n",
    "response = requests.get(query).json()\n",
    "\n"
   ]
  },
  {
   "cell_type": "code",
   "execution_count": 23,
   "metadata": {},
   "outputs": [
    {
     "name": "stdout",
     "output_type": "stream",
     "text": [
      "{'ABW': {'Dutch': {'IsOfficial': 'T', 'Percentage': 5.3}, 'English': {'IsOfficial': 'F', 'Percentage': 9.5}, 'Papiamento': {'IsOfficial': 'F', 'Percentage': 76.7}, 'Spanish': {'IsOfficial': 'F', 'Percentage': 7.4}}}\n"
     ]
    }
   ],
   "source": [
    "print(response)"
   ]
  },
  {
   "cell_type": "code",
   "execution_count": 25,
   "metadata": {
    "collapsed": true
   },
   "outputs": [],
   "source": [
    "from collections import defaultdict\n"
   ]
  },
  {
   "cell_type": "code",
   "execution_count": 29,
   "metadata": {
    "collapsed": true
   },
   "outputs": [],
   "source": [
    "d = defaultdict(dict)\n",
    "\n",
    "for k,v in response.items():\n",
    "    #print(v)\n",
    "    for s_k, s_v in v.items():\n",
    "        if s_v[\"IsOfficial\"] == \"T\":\n",
    "            d[k] = s_k\n",
    "    \n",
    "   \n"
   ]
  },
  {
   "cell_type": "code",
   "execution_count": 30,
   "metadata": {},
   "outputs": [
    {
     "name": "stdout",
     "output_type": "stream",
     "text": [
      "defaultdict(<class 'dict'>, {'ABW': 'Dutch'})\n"
     ]
    }
   ],
   "source": [
    "print(d)"
   ]
  },
  {
   "cell_type": "code",
   "execution_count": 41,
   "metadata": {
    "collapsed": true
   },
   "outputs": [],
   "source": [
    "### to retrieve the countrylanguage data base on KEY \n",
    "d = defaultdict(list)\n",
    "\n",
    "for key in country_code:\n",
    "    query = countrylanguage+'?orderBy=\"$key\"&equalTo=' + '\"' + key + '\"'\n",
    "    ## get response\n",
    "    response = requests.get(query).json()\n",
    "    \n",
    "    for k,v in response.items():\n",
    "        for s_k, s_v in v.items():\n",
    "            if s_v[\"IsOfficial\"] == \"T\":\n",
    "                d[k].append(s_k)\n",
    "\n",
    "    \n",
    "    \n",
    "    \n",
    "    "
   ]
  },
  {
   "cell_type": "code",
   "execution_count": 42,
   "metadata": {},
   "outputs": [
    {
     "name": "stdout",
     "output_type": "stream",
     "text": [
      "defaultdict(<class 'list'>, {'CYM': ['English'], 'SPM': ['French'], 'BMU': ['English'], 'USA': ['English'], 'MSR': ['English'], 'HTI': ['French'], 'VIR': ['English'], 'TCA': ['English'], 'PRI': ['Spanish'], 'ANT': ['Dutch', 'Papiamento'], 'ATG': ['English'], 'HND': ['Spanish'], 'SLV': ['Spanish'], 'MEX': ['Spanish'], 'NIC': ['Spanish'], 'AIA': ['English'], 'CRI': ['Spanish'], 'DOM': ['Spanish'], 'MTQ': ['French'], 'VGB': ['English'], 'GRL': ['Danish', 'Greenlandic'], 'GTM': ['Spanish'], 'BLZ': ['English'], 'BRB': ['English'], 'CUB': ['Spanish'], 'VCT': ['English'], 'LCA': ['English'], 'KNA': ['English'], 'GLP': ['French'], 'ABW': ['Dutch'], 'CAN': ['English', 'French'], 'PAN': ['Spanish']})\n"
     ]
    }
   ],
   "source": [
    "print(d)"
   ]
  },
  {
   "cell_type": "code",
   "execution_count": 43,
   "metadata": {},
   "outputs": [
    {
     "name": "stdout",
     "output_type": "stream",
     "text": [
      "32\n"
     ]
    }
   ],
   "source": [
    "print(len(d))"
   ]
  },
  {
   "cell_type": "code",
   "execution_count": 47,
   "metadata": {
    "collapsed": true
   },
   "outputs": [],
   "source": [
    "output = {}\n",
    "for name in name_dict:\n",
    "    for language in d:\n",
    "        if name == language :\n",
    "            output[name_dict[name]] = d[language]\n",
    "            "
   ]
  },
  {
   "cell_type": "code",
   "execution_count": 48,
   "metadata": {},
   "outputs": [
    {
     "name": "stdout",
     "output_type": "stream",
     "text": [
      "{'Cayman Islands': ['English'], 'Saint Pierre and Miquelon': ['French'], 'Bermuda': ['English'], 'United States': ['English'], 'Montserrat': ['English'], 'Haiti': ['French'], 'Virgin Islands, U.S.': ['English'], 'Turks and Caicos Islands': ['English'], 'Puerto Rico': ['Spanish'], 'Netherlands Antilles': ['Dutch', 'Papiamento'], 'Antigua and Barbuda': ['English'], 'Honduras': ['Spanish'], 'El Salvador': ['Spanish'], 'Mexico': ['Spanish'], 'Nicaragua': ['Spanish'], 'Anguilla': ['English'], 'Costa Rica': ['Spanish'], 'Dominican Republic': ['Spanish'], 'Martinique': ['French'], 'Virgin Islands, British': ['English'], 'Greenland': ['Danish', 'Greenlandic'], 'Guatemala': ['Spanish'], 'Belize': ['English'], 'Barbados': ['English'], 'Cuba': ['Spanish'], 'Saint Vincent and the Grenadines': ['English'], 'Saint Lucia': ['English'], 'Saint Kitts and Nevis': ['English'], 'Guadeloupe': ['French'], 'Aruba': ['Dutch'], 'Canada': ['English', 'French'], 'Panama': ['Spanish']}\n"
     ]
    }
   ],
   "source": [
    "print(output)"
   ]
  },
  {
   "cell_type": "code",
   "execution_count": null,
   "metadata": {
    "collapsed": true
   },
   "outputs": [],
   "source": [
    "\n",
    "if __name__ == \"__main__\":\n",
    "    url = \"https://inf551-52230.firebaseio.com/world/\"\n",
    "    countrylanguage = url+\"countrylanguage.json\"\n",
    "    country_url = url +\"country.json\"\n",
    "    \n",
    "    ### get country for continet equal to north america \n",
    "    \n",
    "    q1 = country_url+'?orderBy=\"Continent\"&equalTo=' + '\"' + sys.argv[1] + '\"'\n",
    "    \n",
    "    \n",
    "    #https://inf551-52230.firebaseio.com/world/country.json?orderBy=\"Continent\"&equalTo=\"North America\"\n",
    "    response = requests.get(q1)\n",
    "    country_continent = response.json()\n",
    "    \n",
    "    ## get the name from country whose Continent = 'North America'\n",
    "    name_dict = {}\n",
    "    for code, value in country_continent.items():\n",
    "        name_dict[code] = country_continent[code][\"Name\"]\n",
    "        \n",
    "        \n",
    "    ### get the country code from country node \n",
    "\n",
    "    country_code = [ k for k,v in name_dict.items()]\n",
    "    \n",
    "    ### to retrieve the countrylanguage data base on KEY \n",
    "    d = defaultdict(list)\n",
    "\n",
    "    for key in country_code:\n",
    "        query = countrylanguage+'?orderBy=\"$key\"&equalTo=' + '\"' + key + '\"'\n",
    "        ## get response\n",
    "        response = requests.get(query).json()\n",
    "        for k,v in response.items():\n",
    "            for s_k, s_v in v.items():\n",
    "                if s_v[\"IsOfficial\"] == \"T\":\n",
    "                    d[k].append(s_k)\n",
    "    \n",
    "    \n",
    "    ### combine name of offical language together in a dictionary \n",
    "    \n",
    "    output = {}\n",
    "    for name in name_dict:\n",
    "        for language in d:\n",
    "            if name == language :\n",
    "                output[name_dict[name]] = d[language]\n",
    "                \n",
    "                \n",
    "    print(output)\n",
    "    "
   ]
  }
 ],
 "metadata": {
  "kernelspec": {
   "display_name": "Python 3.7.6 64-bit",
   "language": "python",
   "name": "python37664bit65f4c716043e4f238f23dd0a361d4646"
  },
  "language_info": {
   "codemirror_mode": {
    "name": "ipython",
    "version": 3
   },
   "file_extension": ".py",
   "mimetype": "text/x-python",
   "name": "python",
   "nbconvert_exporter": "python",
   "pygments_lexer": "ipython3",
   "version": "3.7.6"
  }
 },
 "nbformat": 4,
 "nbformat_minor": 2
}
