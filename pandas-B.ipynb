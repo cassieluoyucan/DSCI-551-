{
 "cells": [
  {
   "cell_type": "code",
   "execution_count": 1,
   "metadata": {
    "collapsed": true
   },
   "outputs": [],
   "source": [
    "import json\n",
    "import pandas as pd\n",
    "import sys"
   ]
  },
  {
   "cell_type": "code",
   "execution_count": 2,
   "metadata": {},
   "outputs": [
    {
     "name": "stdout",
     "output_type": "stream",
     "text": [
      "239\n"
     ]
    }
   ],
   "source": [
    "df_country = pd.read_json(\"country.json\")  ### read data \n",
    "df_city = pd.read_json(\"city.json\")\n",
    "df_language = pd.read_json(\"countrylanguage.json\")\n",
    "        \n",
    "print(len(df_country)) "
   ]
  },
  {
   "cell_type": "code",
   "execution_count": 3,
   "metadata": {
    "collapsed": true
   },
   "outputs": [],
   "source": [
    "df =df_language.merge(df_country[df_country.Continent == 'North America'], \n",
    "                   left_on='CountryCode', \n",
    "                   right_on=\"Code\", how='inner')"
   ]
  },
  {
   "cell_type": "code",
   "execution_count": 4,
   "metadata": {
    "collapsed": true
   },
   "outputs": [],
   "source": [
    "ans_df = df[df.IsOfficial == \"T\"][[\"Name\",\"Language\"]]"
   ]
  },
  {
   "cell_type": "code",
   "execution_count": 5,
   "metadata": {},
   "outputs": [
    {
     "data": {
      "text/html": [
       "<div>\n",
       "<style scoped>\n",
       "    .dataframe tbody tr th:only-of-type {\n",
       "        vertical-align: middle;\n",
       "    }\n",
       "\n",
       "    .dataframe tbody tr th {\n",
       "        vertical-align: top;\n",
       "    }\n",
       "\n",
       "    .dataframe thead th {\n",
       "        text-align: right;\n",
       "    }\n",
       "</style>\n",
       "<table border=\"1\" class=\"dataframe\">\n",
       "  <thead>\n",
       "    <tr style=\"text-align: right;\">\n",
       "      <th></th>\n",
       "      <th>Name</th>\n",
       "      <th>Language</th>\n",
       "    </tr>\n",
       "  </thead>\n",
       "  <tbody>\n",
       "    <tr>\n",
       "      <th>0</th>\n",
       "      <td>Aruba</td>\n",
       "      <td>Dutch</td>\n",
       "    </tr>\n",
       "    <tr>\n",
       "      <th>4</th>\n",
       "      <td>Anguilla</td>\n",
       "      <td>English</td>\n",
       "    </tr>\n",
       "    <tr>\n",
       "      <th>5</th>\n",
       "      <td>Netherlands Antilles</td>\n",
       "      <td>Dutch</td>\n",
       "    </tr>\n",
       "    <tr>\n",
       "      <th>7</th>\n",
       "      <td>Netherlands Antilles</td>\n",
       "      <td>Papiamento</td>\n",
       "    </tr>\n",
       "    <tr>\n",
       "      <th>9</th>\n",
       "      <td>Antigua and Barbuda</td>\n",
       "      <td>English</td>\n",
       "    </tr>\n",
       "    <tr>\n",
       "      <th>12</th>\n",
       "      <td>Belize</td>\n",
       "      <td>English</td>\n",
       "    </tr>\n",
       "    <tr>\n",
       "      <th>16</th>\n",
       "      <td>Bermuda</td>\n",
       "      <td>English</td>\n",
       "    </tr>\n",
       "    <tr>\n",
       "      <th>18</th>\n",
       "      <td>Barbados</td>\n",
       "      <td>English</td>\n",
       "    </tr>\n",
       "    <tr>\n",
       "      <th>21</th>\n",
       "      <td>Canada</td>\n",
       "      <td>English</td>\n",
       "    </tr>\n",
       "    <tr>\n",
       "      <th>23</th>\n",
       "      <td>Canada</td>\n",
       "      <td>French</td>\n",
       "    </tr>\n",
       "    <tr>\n",
       "      <th>34</th>\n",
       "      <td>Costa Rica</td>\n",
       "      <td>Spanish</td>\n",
       "    </tr>\n",
       "    <tr>\n",
       "      <th>35</th>\n",
       "      <td>Cuba</td>\n",
       "      <td>Spanish</td>\n",
       "    </tr>\n",
       "    <tr>\n",
       "      <th>36</th>\n",
       "      <td>Cayman Islands</td>\n",
       "      <td>English</td>\n",
       "    </tr>\n",
       "    <tr>\n",
       "      <th>40</th>\n",
       "      <td>Dominican Republic</td>\n",
       "      <td>Spanish</td>\n",
       "    </tr>\n",
       "    <tr>\n",
       "      <th>42</th>\n",
       "      <td>Guadeloupe</td>\n",
       "      <td>French</td>\n",
       "    </tr>\n",
       "    <tr>\n",
       "      <th>44</th>\n",
       "      <td>Greenland</td>\n",
       "      <td>Danish</td>\n",
       "    </tr>\n",
       "    <tr>\n",
       "      <th>45</th>\n",
       "      <td>Greenland</td>\n",
       "      <td>Greenlandic</td>\n",
       "    </tr>\n",
       "    <tr>\n",
       "      <th>50</th>\n",
       "      <td>Guatemala</td>\n",
       "      <td>Spanish</td>\n",
       "    </tr>\n",
       "    <tr>\n",
       "      <th>54</th>\n",
       "      <td>Honduras</td>\n",
       "      <td>Spanish</td>\n",
       "    </tr>\n",
       "    <tr>\n",
       "      <th>55</th>\n",
       "      <td>Haiti</td>\n",
       "      <td>French</td>\n",
       "    </tr>\n",
       "    <tr>\n",
       "      <th>60</th>\n",
       "      <td>Saint Kitts and Nevis</td>\n",
       "      <td>English</td>\n",
       "    </tr>\n",
       "    <tr>\n",
       "      <th>62</th>\n",
       "      <td>Saint Lucia</td>\n",
       "      <td>English</td>\n",
       "    </tr>\n",
       "    <tr>\n",
       "      <th>66</th>\n",
       "      <td>Mexico</td>\n",
       "      <td>Spanish</td>\n",
       "    </tr>\n",
       "    <tr>\n",
       "      <th>69</th>\n",
       "      <td>Montserrat</td>\n",
       "      <td>English</td>\n",
       "    </tr>\n",
       "    <tr>\n",
       "      <th>71</th>\n",
       "      <td>Martinique</td>\n",
       "      <td>French</td>\n",
       "    </tr>\n",
       "    <tr>\n",
       "      <th>74</th>\n",
       "      <td>Nicaragua</td>\n",
       "      <td>Spanish</td>\n",
       "    </tr>\n",
       "    <tr>\n",
       "      <th>81</th>\n",
       "      <td>Panama</td>\n",
       "      <td>Spanish</td>\n",
       "    </tr>\n",
       "    <tr>\n",
       "      <th>83</th>\n",
       "      <td>Puerto Rico</td>\n",
       "      <td>Spanish</td>\n",
       "    </tr>\n",
       "    <tr>\n",
       "      <th>85</th>\n",
       "      <td>El Salvador</td>\n",
       "      <td>Spanish</td>\n",
       "    </tr>\n",
       "    <tr>\n",
       "      <th>86</th>\n",
       "      <td>Saint Pierre and Miquelon</td>\n",
       "      <td>French</td>\n",
       "    </tr>\n",
       "    <tr>\n",
       "      <th>87</th>\n",
       "      <td>Turks and Caicos Islands</td>\n",
       "      <td>English</td>\n",
       "    </tr>\n",
       "    <tr>\n",
       "      <th>92</th>\n",
       "      <td>United States</td>\n",
       "      <td>English</td>\n",
       "    </tr>\n",
       "    <tr>\n",
       "      <th>104</th>\n",
       "      <td>Saint Vincent and the Grenadines</td>\n",
       "      <td>English</td>\n",
       "    </tr>\n",
       "    <tr>\n",
       "      <th>105</th>\n",
       "      <td>Virgin Islands, British</td>\n",
       "      <td>English</td>\n",
       "    </tr>\n",
       "    <tr>\n",
       "      <th>106</th>\n",
       "      <td>Virgin Islands, U.S.</td>\n",
       "      <td>English</td>\n",
       "    </tr>\n",
       "  </tbody>\n",
       "</table>\n",
       "</div>"
      ],
      "text/plain": [
       "                                 Name     Language\n",
       "0                               Aruba        Dutch\n",
       "4                            Anguilla      English\n",
       "5                Netherlands Antilles        Dutch\n",
       "7                Netherlands Antilles   Papiamento\n",
       "9                 Antigua and Barbuda      English\n",
       "12                             Belize      English\n",
       "16                            Bermuda      English\n",
       "18                           Barbados      English\n",
       "21                             Canada      English\n",
       "23                             Canada       French\n",
       "34                         Costa Rica      Spanish\n",
       "35                               Cuba      Spanish\n",
       "36                     Cayman Islands      English\n",
       "40                 Dominican Republic      Spanish\n",
       "42                         Guadeloupe       French\n",
       "44                          Greenland       Danish\n",
       "45                          Greenland  Greenlandic\n",
       "50                          Guatemala      Spanish\n",
       "54                           Honduras      Spanish\n",
       "55                              Haiti       French\n",
       "60              Saint Kitts and Nevis      English\n",
       "62                        Saint Lucia      English\n",
       "66                             Mexico      Spanish\n",
       "69                         Montserrat      English\n",
       "71                         Martinique       French\n",
       "74                          Nicaragua      Spanish\n",
       "81                             Panama      Spanish\n",
       "83                        Puerto Rico      Spanish\n",
       "85                        El Salvador      Spanish\n",
       "86          Saint Pierre and Miquelon       French\n",
       "87           Turks and Caicos Islands      English\n",
       "92                      United States      English\n",
       "104  Saint Vincent and the Grenadines      English\n",
       "105           Virgin Islands, British      English\n",
       "106              Virgin Islands, U.S.      English"
      ]
     },
     "execution_count": 5,
     "metadata": {},
     "output_type": "execute_result"
    }
   ],
   "source": [
    "ans_df"
   ]
  },
  {
   "cell_type": "code",
   "execution_count": 13,
   "metadata": {},
   "outputs": [],
   "source": [
    "df = df_country.groupby([\"Continent\",\"GNP\"]).size().to_frame(\"size\").reset_index().sort_values([\"Continent\",\"GNP\"])"
   ]
  },
  {
   "cell_type": "code",
   "execution_count": 14,
   "metadata": {},
   "outputs": [
    {
     "data": {
      "text/plain": [
       "Continent      GNP     \n",
       "Africa         0.0         3\n",
       "               6.0         1\n",
       "               60.0        1\n",
       "               283.0       1\n",
       "               293.0       1\n",
       "                          ..\n",
       "South America  72949.0     1\n",
       "               95023.0     1\n",
       "               102896.0    1\n",
       "               340238.0    1\n",
       "               776739.0    1\n",
       "Length: 221, dtype: int64"
      ]
     },
     "execution_count": 14,
     "metadata": {},
     "output_type": "execute_result"
    }
   ],
   "source": [
    "df"
   ]
  },
  {
   "cell_type": "code",
   "execution_count": 29,
   "metadata": {
    "collapsed": true
   },
   "outputs": [],
   "source": [
    "df_test = df_country[df_country[\"Continent\"] == \"North America\"]\n",
    "\n",
    "df_code_1 = df_test[\"Code\"].tolist()"
   ]
  },
  {
   "cell_type": "code",
   "execution_count": 30,
   "metadata": {
    "collapsed": true
   },
   "outputs": [],
   "source": [
    "df_test = df_language[df_language.IsOfficial == \"T\"]\n",
    "\n",
    "df_code_2 = df_test['CountryCode'].tolist()"
   ]
  },
  {
   "cell_type": "code",
   "execution_count": 32,
   "metadata": {},
   "outputs": [
    {
     "name": "stdout",
     "output_type": "stream",
     "text": [
      "yes\n",
      "yes\n",
      "yes\n",
      "yes\n",
      "yes\n"
     ]
    }
   ],
   "source": [
    "for i in df_code_1:\n",
    "    if i not in df_code_2:\n",
    "        print(\"yes\")"
   ]
  },
  {
   "cell_type": "code",
   "execution_count": 15,
   "metadata": {},
   "outputs": [
    {
     "name": "stdout",
     "output_type": "stream",
     "text": [
      "False\n"
     ]
    }
   ],
   "source": [
    "def checkIfDuplicates_1(listOfElems):\n",
    "    ''' Check if given list contains any duplicates '''\n",
    "    if len(listOfElems) == len(set(listOfElems)):\n",
    "        return False\n",
    "    else:\n",
    "        return True\n",
    "    \n",
    "result = checkIfDuplicates_1(df_code)\n",
    "print(result)"
   ]
  },
  {
   "cell_type": "code",
   "execution_count": 5,
   "metadata": {},
   "outputs": [
    {
     "data": {
      "text/html": [
       "<div>\n",
       "<style scoped>\n",
       "    .dataframe tbody tr th:only-of-type {\n",
       "        vertical-align: middle;\n",
       "    }\n",
       "\n",
       "    .dataframe tbody tr th {\n",
       "        vertical-align: top;\n",
       "    }\n",
       "\n",
       "    .dataframe thead th {\n",
       "        text-align: right;\n",
       "    }\n",
       "</style>\n",
       "<table border=\"1\" class=\"dataframe\">\n",
       "  <thead>\n",
       "    <tr style=\"text-align: right;\">\n",
       "      <th></th>\n",
       "      <th>CountryCode</th>\n",
       "      <th>Language</th>\n",
       "      <th>IsOfficial</th>\n",
       "      <th>Percentage</th>\n",
       "    </tr>\n",
       "  </thead>\n",
       "  <tbody>\n",
       "    <tr>\n",
       "      <th>0</th>\n",
       "      <td>ABW</td>\n",
       "      <td>Dutch</td>\n",
       "      <td>T</td>\n",
       "      <td>5.3</td>\n",
       "    </tr>\n",
       "    <tr>\n",
       "      <th>1</th>\n",
       "      <td>ABW</td>\n",
       "      <td>English</td>\n",
       "      <td>F</td>\n",
       "      <td>9.5</td>\n",
       "    </tr>\n",
       "    <tr>\n",
       "      <th>2</th>\n",
       "      <td>ABW</td>\n",
       "      <td>Papiamento</td>\n",
       "      <td>F</td>\n",
       "      <td>76.7</td>\n",
       "    </tr>\n",
       "    <tr>\n",
       "      <th>3</th>\n",
       "      <td>ABW</td>\n",
       "      <td>Spanish</td>\n",
       "      <td>F</td>\n",
       "      <td>7.4</td>\n",
       "    </tr>\n",
       "    <tr>\n",
       "      <th>4</th>\n",
       "      <td>AFG</td>\n",
       "      <td>Balochi</td>\n",
       "      <td>F</td>\n",
       "      <td>0.9</td>\n",
       "    </tr>\n",
       "    <tr>\n",
       "      <th>5</th>\n",
       "      <td>AFG</td>\n",
       "      <td>Dari</td>\n",
       "      <td>T</td>\n",
       "      <td>32.1</td>\n",
       "    </tr>\n",
       "    <tr>\n",
       "      <th>6</th>\n",
       "      <td>AFG</td>\n",
       "      <td>Pashto</td>\n",
       "      <td>T</td>\n",
       "      <td>52.4</td>\n",
       "    </tr>\n",
       "    <tr>\n",
       "      <th>7</th>\n",
       "      <td>AFG</td>\n",
       "      <td>Turkmenian</td>\n",
       "      <td>F</td>\n",
       "      <td>1.9</td>\n",
       "    </tr>\n",
       "    <tr>\n",
       "      <th>8</th>\n",
       "      <td>AFG</td>\n",
       "      <td>Uzbek</td>\n",
       "      <td>F</td>\n",
       "      <td>8.8</td>\n",
       "    </tr>\n",
       "    <tr>\n",
       "      <th>9</th>\n",
       "      <td>AGO</td>\n",
       "      <td>Ambo</td>\n",
       "      <td>F</td>\n",
       "      <td>2.4</td>\n",
       "    </tr>\n",
       "  </tbody>\n",
       "</table>\n",
       "</div>"
      ],
      "text/plain": [
       "  CountryCode    Language IsOfficial  Percentage\n",
       "0         ABW       Dutch          T         5.3\n",
       "1         ABW     English          F         9.5\n",
       "2         ABW  Papiamento          F        76.7\n",
       "3         ABW     Spanish          F         7.4\n",
       "4         AFG     Balochi          F         0.9\n",
       "5         AFG        Dari          T        32.1\n",
       "6         AFG      Pashto          T        52.4\n",
       "7         AFG  Turkmenian          F         1.9\n",
       "8         AFG       Uzbek          F         8.8\n",
       "9         AGO        Ambo          F         2.4"
      ]
     },
     "execution_count": 5,
     "metadata": {},
     "output_type": "execute_result"
    }
   ],
   "source": [
    "df_Count = df_test['CountryCode'].tolist()"
   ]
  },
  {
   "cell_type": "code",
   "execution_count": 24,
   "metadata": {},
   "outputs": [
    {
     "name": "stdout",
     "output_type": "stream",
     "text": [
      "True\n"
     ]
    }
   ],
   "source": [
    "df_test = df_language[df_language.IsOfficial == \"T\"]\n",
    "\n",
    "df_code = df_test['CountryCode'].tolist()\n",
    "result_1 = checkIfDuplicates_1(df_code)\n",
    "print(result_1)\n"
   ]
  },
  {
   "cell_type": "code",
   "execution_count": 7,
   "metadata": {},
   "outputs": [
    {
     "name": "stdout",
     "output_type": "stream",
     "text": [
      "238\n"
     ]
    }
   ],
   "source": [
    "print(len(df_test))"
   ]
  },
  {
   "cell_type": "code",
   "execution_count": 22,
   "metadata": {
    "collapsed": true
   },
   "outputs": [],
   "source": [
    "df = df_language[df_language.IsOfficial ==\"T\"].merge(df_country[df_country.Continent == 'North America'], \n",
    "                   left_on='CountryCode', \n",
    "                   right_on=\"Code\", how='inner')"
   ]
  },
  {
   "cell_type": "code",
   "execution_count": 25,
   "metadata": {
    "collapsed": true
   },
   "outputs": [],
   "source": [
    "#df"
   ]
  },
  {
   "cell_type": "code",
   "execution_count": 18,
   "metadata": {
    "collapsed": true
   },
   "outputs": [],
   "source": [
    "    ## join two dataframe based on ID and capital\n",
    "df = df_test.merge(df_country[df_country.Continent == 'North America'], \n",
    "                   left_on='CountryCode', \n",
    "                   right_on=\"Code\", how='inner')\n",
    "    ### select countries and captical city name\n",
    "    \n",
    "df  = df[df['IsOfficial'] == \"T\"]\n",
    "df_ans = df[['Name','Language']]"
   ]
  },
  {
   "cell_type": "code",
   "execution_count": 19,
   "metadata": {},
   "outputs": [
    {
     "name": "stdout",
     "output_type": "stream",
     "text": [
      "35\n"
     ]
    }
   ],
   "source": [
    "#df  = df[df['IsOfficial'] == \"T\"]   \n",
    "#df_ans = df[['Name','Language']]\n",
    "        \n",
    "print(len(df_ans))"
   ]
  },
  {
   "cell_type": "code",
   "execution_count": null,
   "metadata": {
    "collapsed": true
   },
   "outputs": [],
   "source": [
    "if __name__ == \"__main__\":\n",
    "    if (len(sys.argv)!=4):# if user does not pass an input\n",
    "        print ('Usage python filename csv_file_name')\n",
    "        sys.exit(1)\n",
    "        \n",
    "    try:\n",
    "        df_country = pd.read_json(sys.argv[1])  ### read data \n",
    "        df_city = pd.read_json(sys.argv[2])\n",
    "        df_language = pd.read_json(sys.argv[3])\n",
    "        \n",
    "        ## join two dataframe based on countryCode and code\n",
    "        df = df_language.merge(df_country[df_country.Continent == 'North America'], \n",
    "                   left_on='CountryCode', \n",
    "                   right_on=\"Code\", how='inner')\n",
    "    ### select countries and captical city name\n",
    "    \n",
    "        df  = df[df['IsOfficial'] == \"T\"] \n",
    "        df_ans = df[['Name','Language']]\n",
    "        \n",
    "        print(df_ans)\n",
    "        \n",
    "    \n",
    "    except ValueError:\n",
    "        print('error occur')"
   ]
  }
 ],
 "metadata": {
  "kernelspec": {
   "display_name": "Python 3.7.6 64-bit",
   "language": "python",
   "name": "python37664bit65f4c716043e4f238f23dd0a361d4646"
  },
  "language_info": {
   "codemirror_mode": {
    "name": "ipython",
    "version": 3
   },
   "file_extension": ".py",
   "mimetype": "text/x-python",
   "name": "python",
   "nbconvert_exporter": "python",
   "pygments_lexer": "ipython3",
   "version": "3.7.6"
  }
 },
 "nbformat": 4,
 "nbformat_minor": 2
}
